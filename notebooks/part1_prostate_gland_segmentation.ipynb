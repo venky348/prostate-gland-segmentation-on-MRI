{
 "cells": [
  {
   "cell_type": "markdown",
   "id": "c69ac36e",
   "metadata": {},
   "source": [
    "### Import Required Libraries\n",
    "\n",
    "In this section, we import all the necessary libraries and modules used throughout the project. These include:\n",
    "\n",
    "- **Standard Python libraries** like `os`, `numpy`, and `pandas` for file handling, numerical operations, and data manipulation.\n",
    "- **Matplotlib and Seaborn** for data visualization.\n",
    "- **tqdm** for progress bars during data processing loops.\n",
    "- **PyTorch** for model operations and tensor computations.\n",
    "- **MONAI (Medical Open Network for AI)** for specialized medical imaging tools, including:\n",
    "  - Data loading and preprocessing (`LoadImage`, `Compose`, etc.)\n",
    "  - Model evaluation (`DiceMetric`)\n",
    "  - Inference utilities (`sliding_window_inference`)\n",
    "  - Configuration parsing (`ConfigParser`)\n"
   ]
  },
  {
   "cell_type": "code",
   "execution_count": 25,
   "id": "49aed26d",
   "metadata": {},
   "outputs": [],
   "source": [
    "# Standard Libraries\n",
    "import os\n",
    "import numpy as np\n",
    "import pandas as pd\n",
    "import matplotlib.pyplot as plt\n",
    "import seaborn as sns\n",
    "from tqdm import tqdm\n",
    "\n",
    "# PyTorch\n",
    "import torch\n",
    "\n",
    "# MONAI Transforms & Utilities\n",
    "from monai.transforms import (\n",
    "    Compose,\n",
    "    LoadImaged,\n",
    "    LoadImage,\n",
    "    EnsureChannelFirstd,\n",
    "    EnsureChannelFirst,\n",
    "    ResizeD,\n",
    "    Resize,\n",
    "    ScaleIntensityd,\n",
    "    ScaleIntensity,\n",
    "    ToTensord,\n",
    "    ToTensor,\n",
    "    Orientationd,\n",
    "    Spacingd,\n",
    "    NormalizeIntensityd,\n",
    "    EnsureTyped\n",
    ")\n",
    "from monai.metrics import DiceMetric\n",
    "from monai.inferers import sliding_window_inference\n",
    "from monai.bundle import ConfigParser\n"
   ]
  },
  {
   "cell_type": "markdown",
   "id": "cb000429",
   "metadata": {},
   "source": [
    "### Set Device\n",
    "\n",
    "This cell sets the computation device for model training and inference. It checks if a GPU (CUDA) is available and uses it if possible; otherwise, it falls back to the CPU. Utilizing a GPU can significantly speed up model training and inference, especially for large 3D medical imaging data.\n"
   ]
  },
  {
   "cell_type": "code",
   "execution_count": 26,
   "id": "4cb4d1eb",
   "metadata": {},
   "outputs": [],
   "source": [
    "# Set device\n",
    "device = torch.device(\"cuda\" if torch.cuda.is_available() else \"cpu\")"
   ]
  },
  {
   "cell_type": "code",
   "execution_count": 27,
   "id": "efc99af8",
   "metadata": {},
   "outputs": [],
   "source": [
    "cohort_path = \"../data/PI-CAI/cohort.csv\"\n",
    "file_data_root = \"../data/PI-CAI/file_data\"\n",
    "bundle_dir = \"../models/prostate_mri_anatomy\"\n",
    "model_weights = os.path.join(bundle_dir, \"models\", \"model.pt\")\n",
    "config_path = os.path.join(bundle_dir, \"configs\", \"inference.json\")"
   ]
  },
  {
   "cell_type": "markdown",
   "id": "227f58f3",
   "metadata": {},
   "source": [
    "### Load Pre-trained Model from MONAI Bundle\n",
    "\n",
    "This cell loads the pre-trained prostate MRI segmentation model using MONAI's bundle configuration system:\n",
    "\n",
    "- `ConfigParser` is used to parse the model's `inference.json` file.\n",
    "- The network architecture is instantiated from the bundle definition.\n",
    "- Pre-trained weights are loaded from `model.pt` and applied to the model.\n",
    "- The model is set to evaluation mode using `eval()` for inference.\n"
   ]
  },
  {
   "cell_type": "code",
   "execution_count": 28,
   "id": "138585ab",
   "metadata": {},
   "outputs": [
    {
     "data": {
      "text/plain": [
       "UNet(\n",
       "  (model): Sequential(\n",
       "    (0): ResidualUnit(\n",
       "      (conv): Sequential(\n",
       "        (unit0): Convolution(\n",
       "          (conv): Conv3d(1, 16, kernel_size=(3, 3, 3), stride=(2, 2, 2), padding=(1, 1, 1))\n",
       "          (adn): ADN(\n",
       "            (N): BatchNorm3d(16, eps=1e-05, momentum=0.1, affine=True, track_running_stats=True)\n",
       "            (D): Dropout(p=0.15, inplace=False)\n",
       "            (A): PReLU(num_parameters=1)\n",
       "          )\n",
       "        )\n",
       "        (unit1): Convolution(\n",
       "          (conv): Conv3d(16, 16, kernel_size=(3, 3, 3), stride=(1, 1, 1), padding=(1, 1, 1))\n",
       "          (adn): ADN(\n",
       "            (N): BatchNorm3d(16, eps=1e-05, momentum=0.1, affine=True, track_running_stats=True)\n",
       "            (D): Dropout(p=0.15, inplace=False)\n",
       "            (A): PReLU(num_parameters=1)\n",
       "          )\n",
       "        )\n",
       "        (unit2): Convolution(\n",
       "          (conv): Conv3d(16, 16, kernel_size=(3, 3, 3), stride=(1, 1, 1), padding=(1, 1, 1))\n",
       "          (adn): ADN(\n",
       "            (N): BatchNorm3d(16, eps=1e-05, momentum=0.1, affine=True, track_running_stats=True)\n",
       "            (D): Dropout(p=0.15, inplace=False)\n",
       "            (A): PReLU(num_parameters=1)\n",
       "          )\n",
       "        )\n",
       "        (unit3): Convolution(\n",
       "          (conv): Conv3d(16, 16, kernel_size=(3, 3, 3), stride=(1, 1, 1), padding=(1, 1, 1))\n",
       "          (adn): ADN(\n",
       "            (N): BatchNorm3d(16, eps=1e-05, momentum=0.1, affine=True, track_running_stats=True)\n",
       "            (D): Dropout(p=0.15, inplace=False)\n",
       "            (A): PReLU(num_parameters=1)\n",
       "          )\n",
       "        )\n",
       "      )\n",
       "      (residual): Conv3d(1, 16, kernel_size=(3, 3, 3), stride=(2, 2, 2), padding=(1, 1, 1))\n",
       "    )\n",
       "    (1): SkipConnection(\n",
       "      (submodule): Sequential(\n",
       "        (0): ResidualUnit(\n",
       "          (conv): Sequential(\n",
       "            (unit0): Convolution(\n",
       "              (conv): Conv3d(16, 32, kernel_size=(3, 3, 3), stride=(2, 2, 2), padding=(1, 1, 1))\n",
       "              (adn): ADN(\n",
       "                (N): BatchNorm3d(32, eps=1e-05, momentum=0.1, affine=True, track_running_stats=True)\n",
       "                (D): Dropout(p=0.15, inplace=False)\n",
       "                (A): PReLU(num_parameters=1)\n",
       "              )\n",
       "            )\n",
       "            (unit1): Convolution(\n",
       "              (conv): Conv3d(32, 32, kernel_size=(3, 3, 3), stride=(1, 1, 1), padding=(1, 1, 1))\n",
       "              (adn): ADN(\n",
       "                (N): BatchNorm3d(32, eps=1e-05, momentum=0.1, affine=True, track_running_stats=True)\n",
       "                (D): Dropout(p=0.15, inplace=False)\n",
       "                (A): PReLU(num_parameters=1)\n",
       "              )\n",
       "            )\n",
       "            (unit2): Convolution(\n",
       "              (conv): Conv3d(32, 32, kernel_size=(3, 3, 3), stride=(1, 1, 1), padding=(1, 1, 1))\n",
       "              (adn): ADN(\n",
       "                (N): BatchNorm3d(32, eps=1e-05, momentum=0.1, affine=True, track_running_stats=True)\n",
       "                (D): Dropout(p=0.15, inplace=False)\n",
       "                (A): PReLU(num_parameters=1)\n",
       "              )\n",
       "            )\n",
       "            (unit3): Convolution(\n",
       "              (conv): Conv3d(32, 32, kernel_size=(3, 3, 3), stride=(1, 1, 1), padding=(1, 1, 1))\n",
       "              (adn): ADN(\n",
       "                (N): BatchNorm3d(32, eps=1e-05, momentum=0.1, affine=True, track_running_stats=True)\n",
       "                (D): Dropout(p=0.15, inplace=False)\n",
       "                (A): PReLU(num_parameters=1)\n",
       "              )\n",
       "            )\n",
       "          )\n",
       "          (residual): Conv3d(16, 32, kernel_size=(3, 3, 3), stride=(2, 2, 2), padding=(1, 1, 1))\n",
       "        )\n",
       "        (1): SkipConnection(\n",
       "          (submodule): Sequential(\n",
       "            (0): ResidualUnit(\n",
       "              (conv): Sequential(\n",
       "                (unit0): Convolution(\n",
       "                  (conv): Conv3d(32, 64, kernel_size=(3, 3, 3), stride=(2, 2, 2), padding=(1, 1, 1))\n",
       "                  (adn): ADN(\n",
       "                    (N): BatchNorm3d(64, eps=1e-05, momentum=0.1, affine=True, track_running_stats=True)\n",
       "                    (D): Dropout(p=0.15, inplace=False)\n",
       "                    (A): PReLU(num_parameters=1)\n",
       "                  )\n",
       "                )\n",
       "                (unit1): Convolution(\n",
       "                  (conv): Conv3d(64, 64, kernel_size=(3, 3, 3), stride=(1, 1, 1), padding=(1, 1, 1))\n",
       "                  (adn): ADN(\n",
       "                    (N): BatchNorm3d(64, eps=1e-05, momentum=0.1, affine=True, track_running_stats=True)\n",
       "                    (D): Dropout(p=0.15, inplace=False)\n",
       "                    (A): PReLU(num_parameters=1)\n",
       "                  )\n",
       "                )\n",
       "                (unit2): Convolution(\n",
       "                  (conv): Conv3d(64, 64, kernel_size=(3, 3, 3), stride=(1, 1, 1), padding=(1, 1, 1))\n",
       "                  (adn): ADN(\n",
       "                    (N): BatchNorm3d(64, eps=1e-05, momentum=0.1, affine=True, track_running_stats=True)\n",
       "                    (D): Dropout(p=0.15, inplace=False)\n",
       "                    (A): PReLU(num_parameters=1)\n",
       "                  )\n",
       "                )\n",
       "                (unit3): Convolution(\n",
       "                  (conv): Conv3d(64, 64, kernel_size=(3, 3, 3), stride=(1, 1, 1), padding=(1, 1, 1))\n",
       "                  (adn): ADN(\n",
       "                    (N): BatchNorm3d(64, eps=1e-05, momentum=0.1, affine=True, track_running_stats=True)\n",
       "                    (D): Dropout(p=0.15, inplace=False)\n",
       "                    (A): PReLU(num_parameters=1)\n",
       "                  )\n",
       "                )\n",
       "              )\n",
       "              (residual): Conv3d(32, 64, kernel_size=(3, 3, 3), stride=(2, 2, 2), padding=(1, 1, 1))\n",
       "            )\n",
       "            (1): SkipConnection(\n",
       "              (submodule): Sequential(\n",
       "                (0): ResidualUnit(\n",
       "                  (conv): Sequential(\n",
       "                    (unit0): Convolution(\n",
       "                      (conv): Conv3d(64, 128, kernel_size=(3, 3, 3), stride=(2, 2, 2), padding=(1, 1, 1))\n",
       "                      (adn): ADN(\n",
       "                        (N): BatchNorm3d(128, eps=1e-05, momentum=0.1, affine=True, track_running_stats=True)\n",
       "                        (D): Dropout(p=0.15, inplace=False)\n",
       "                        (A): PReLU(num_parameters=1)\n",
       "                      )\n",
       "                    )\n",
       "                    (unit1): Convolution(\n",
       "                      (conv): Conv3d(128, 128, kernel_size=(3, 3, 3), stride=(1, 1, 1), padding=(1, 1, 1))\n",
       "                      (adn): ADN(\n",
       "                        (N): BatchNorm3d(128, eps=1e-05, momentum=0.1, affine=True, track_running_stats=True)\n",
       "                        (D): Dropout(p=0.15, inplace=False)\n",
       "                        (A): PReLU(num_parameters=1)\n",
       "                      )\n",
       "                    )\n",
       "                    (unit2): Convolution(\n",
       "                      (conv): Conv3d(128, 128, kernel_size=(3, 3, 3), stride=(1, 1, 1), padding=(1, 1, 1))\n",
       "                      (adn): ADN(\n",
       "                        (N): BatchNorm3d(128, eps=1e-05, momentum=0.1, affine=True, track_running_stats=True)\n",
       "                        (D): Dropout(p=0.15, inplace=False)\n",
       "                        (A): PReLU(num_parameters=1)\n",
       "                      )\n",
       "                    )\n",
       "                    (unit3): Convolution(\n",
       "                      (conv): Conv3d(128, 128, kernel_size=(3, 3, 3), stride=(1, 1, 1), padding=(1, 1, 1))\n",
       "                      (adn): ADN(\n",
       "                        (N): BatchNorm3d(128, eps=1e-05, momentum=0.1, affine=True, track_running_stats=True)\n",
       "                        (D): Dropout(p=0.15, inplace=False)\n",
       "                        (A): PReLU(num_parameters=1)\n",
       "                      )\n",
       "                    )\n",
       "                  )\n",
       "                  (residual): Conv3d(64, 128, kernel_size=(3, 3, 3), stride=(2, 2, 2), padding=(1, 1, 1))\n",
       "                )\n",
       "                (1): SkipConnection(\n",
       "                  (submodule): Sequential(\n",
       "                    (0): ResidualUnit(\n",
       "                      (conv): Sequential(\n",
       "                        (unit0): Convolution(\n",
       "                          (conv): Conv3d(128, 256, kernel_size=(3, 3, 3), stride=(2, 2, 2), padding=(1, 1, 1))\n",
       "                          (adn): ADN(\n",
       "                            (N): BatchNorm3d(256, eps=1e-05, momentum=0.1, affine=True, track_running_stats=True)\n",
       "                            (D): Dropout(p=0.15, inplace=False)\n",
       "                            (A): PReLU(num_parameters=1)\n",
       "                          )\n",
       "                        )\n",
       "                        (unit1): Convolution(\n",
       "                          (conv): Conv3d(256, 256, kernel_size=(3, 3, 3), stride=(1, 1, 1), padding=(1, 1, 1))\n",
       "                          (adn): ADN(\n",
       "                            (N): BatchNorm3d(256, eps=1e-05, momentum=0.1, affine=True, track_running_stats=True)\n",
       "                            (D): Dropout(p=0.15, inplace=False)\n",
       "                            (A): PReLU(num_parameters=1)\n",
       "                          )\n",
       "                        )\n",
       "                        (unit2): Convolution(\n",
       "                          (conv): Conv3d(256, 256, kernel_size=(3, 3, 3), stride=(1, 1, 1), padding=(1, 1, 1))\n",
       "                          (adn): ADN(\n",
       "                            (N): BatchNorm3d(256, eps=1e-05, momentum=0.1, affine=True, track_running_stats=True)\n",
       "                            (D): Dropout(p=0.15, inplace=False)\n",
       "                            (A): PReLU(num_parameters=1)\n",
       "                          )\n",
       "                        )\n",
       "                        (unit3): Convolution(\n",
       "                          (conv): Conv3d(256, 256, kernel_size=(3, 3, 3), stride=(1, 1, 1), padding=(1, 1, 1))\n",
       "                          (adn): ADN(\n",
       "                            (N): BatchNorm3d(256, eps=1e-05, momentum=0.1, affine=True, track_running_stats=True)\n",
       "                            (D): Dropout(p=0.15, inplace=False)\n",
       "                            (A): PReLU(num_parameters=1)\n",
       "                          )\n",
       "                        )\n",
       "                      )\n",
       "                      (residual): Conv3d(128, 256, kernel_size=(3, 3, 3), stride=(2, 2, 2), padding=(1, 1, 1))\n",
       "                    )\n",
       "                    (1): SkipConnection(\n",
       "                      (submodule): ResidualUnit(\n",
       "                        (conv): Sequential(\n",
       "                          (unit0): Convolution(\n",
       "                            (conv): Conv3d(256, 512, kernel_size=(3, 3, 3), stride=(1, 1, 1), padding=(1, 1, 1))\n",
       "                            (adn): ADN(\n",
       "                              (N): BatchNorm3d(512, eps=1e-05, momentum=0.1, affine=True, track_running_stats=True)\n",
       "                              (D): Dropout(p=0.15, inplace=False)\n",
       "                              (A): PReLU(num_parameters=1)\n",
       "                            )\n",
       "                          )\n",
       "                          (unit1): Convolution(\n",
       "                            (conv): Conv3d(512, 512, kernel_size=(3, 3, 3), stride=(1, 1, 1), padding=(1, 1, 1))\n",
       "                            (adn): ADN(\n",
       "                              (N): BatchNorm3d(512, eps=1e-05, momentum=0.1, affine=True, track_running_stats=True)\n",
       "                              (D): Dropout(p=0.15, inplace=False)\n",
       "                              (A): PReLU(num_parameters=1)\n",
       "                            )\n",
       "                          )\n",
       "                          (unit2): Convolution(\n",
       "                            (conv): Conv3d(512, 512, kernel_size=(3, 3, 3), stride=(1, 1, 1), padding=(1, 1, 1))\n",
       "                            (adn): ADN(\n",
       "                              (N): BatchNorm3d(512, eps=1e-05, momentum=0.1, affine=True, track_running_stats=True)\n",
       "                              (D): Dropout(p=0.15, inplace=False)\n",
       "                              (A): PReLU(num_parameters=1)\n",
       "                            )\n",
       "                          )\n",
       "                          (unit3): Convolution(\n",
       "                            (conv): Conv3d(512, 512, kernel_size=(3, 3, 3), stride=(1, 1, 1), padding=(1, 1, 1))\n",
       "                            (adn): ADN(\n",
       "                              (N): BatchNorm3d(512, eps=1e-05, momentum=0.1, affine=True, track_running_stats=True)\n",
       "                              (D): Dropout(p=0.15, inplace=False)\n",
       "                              (A): PReLU(num_parameters=1)\n",
       "                            )\n",
       "                          )\n",
       "                        )\n",
       "                        (residual): Conv3d(256, 512, kernel_size=(1, 1, 1), stride=(1, 1, 1))\n",
       "                      )\n",
       "                    )\n",
       "                    (2): Sequential(\n",
       "                      (0): Convolution(\n",
       "                        (conv): ConvTranspose3d(768, 128, kernel_size=(3, 3, 3), stride=(2, 2, 2), padding=(1, 1, 1), output_padding=(1, 1, 1))\n",
       "                        (adn): ADN(\n",
       "                          (N): BatchNorm3d(128, eps=1e-05, momentum=0.1, affine=True, track_running_stats=True)\n",
       "                          (D): Dropout(p=0.15, inplace=False)\n",
       "                          (A): PReLU(num_parameters=1)\n",
       "                        )\n",
       "                      )\n",
       "                      (1): ResidualUnit(\n",
       "                        (conv): Sequential(\n",
       "                          (unit0): Convolution(\n",
       "                            (conv): Conv3d(128, 128, kernel_size=(3, 3, 3), stride=(1, 1, 1), padding=(1, 1, 1))\n",
       "                            (adn): ADN(\n",
       "                              (N): BatchNorm3d(128, eps=1e-05, momentum=0.1, affine=True, track_running_stats=True)\n",
       "                              (D): Dropout(p=0.15, inplace=False)\n",
       "                              (A): PReLU(num_parameters=1)\n",
       "                            )\n",
       "                          )\n",
       "                        )\n",
       "                        (residual): Identity()\n",
       "                      )\n",
       "                    )\n",
       "                  )\n",
       "                )\n",
       "                (2): Sequential(\n",
       "                  (0): Convolution(\n",
       "                    (conv): ConvTranspose3d(256, 64, kernel_size=(3, 3, 3), stride=(2, 2, 2), padding=(1, 1, 1), output_padding=(1, 1, 1))\n",
       "                    (adn): ADN(\n",
       "                      (N): BatchNorm3d(64, eps=1e-05, momentum=0.1, affine=True, track_running_stats=True)\n",
       "                      (D): Dropout(p=0.15, inplace=False)\n",
       "                      (A): PReLU(num_parameters=1)\n",
       "                    )\n",
       "                  )\n",
       "                  (1): ResidualUnit(\n",
       "                    (conv): Sequential(\n",
       "                      (unit0): Convolution(\n",
       "                        (conv): Conv3d(64, 64, kernel_size=(3, 3, 3), stride=(1, 1, 1), padding=(1, 1, 1))\n",
       "                        (adn): ADN(\n",
       "                          (N): BatchNorm3d(64, eps=1e-05, momentum=0.1, affine=True, track_running_stats=True)\n",
       "                          (D): Dropout(p=0.15, inplace=False)\n",
       "                          (A): PReLU(num_parameters=1)\n",
       "                        )\n",
       "                      )\n",
       "                    )\n",
       "                    (residual): Identity()\n",
       "                  )\n",
       "                )\n",
       "              )\n",
       "            )\n",
       "            (2): Sequential(\n",
       "              (0): Convolution(\n",
       "                (conv): ConvTranspose3d(128, 32, kernel_size=(3, 3, 3), stride=(2, 2, 2), padding=(1, 1, 1), output_padding=(1, 1, 1))\n",
       "                (adn): ADN(\n",
       "                  (N): BatchNorm3d(32, eps=1e-05, momentum=0.1, affine=True, track_running_stats=True)\n",
       "                  (D): Dropout(p=0.15, inplace=False)\n",
       "                  (A): PReLU(num_parameters=1)\n",
       "                )\n",
       "              )\n",
       "              (1): ResidualUnit(\n",
       "                (conv): Sequential(\n",
       "                  (unit0): Convolution(\n",
       "                    (conv): Conv3d(32, 32, kernel_size=(3, 3, 3), stride=(1, 1, 1), padding=(1, 1, 1))\n",
       "                    (adn): ADN(\n",
       "                      (N): BatchNorm3d(32, eps=1e-05, momentum=0.1, affine=True, track_running_stats=True)\n",
       "                      (D): Dropout(p=0.15, inplace=False)\n",
       "                      (A): PReLU(num_parameters=1)\n",
       "                    )\n",
       "                  )\n",
       "                )\n",
       "                (residual): Identity()\n",
       "              )\n",
       "            )\n",
       "          )\n",
       "        )\n",
       "        (2): Sequential(\n",
       "          (0): Convolution(\n",
       "            (conv): ConvTranspose3d(64, 16, kernel_size=(3, 3, 3), stride=(2, 2, 2), padding=(1, 1, 1), output_padding=(1, 1, 1))\n",
       "            (adn): ADN(\n",
       "              (N): BatchNorm3d(16, eps=1e-05, momentum=0.1, affine=True, track_running_stats=True)\n",
       "              (D): Dropout(p=0.15, inplace=False)\n",
       "              (A): PReLU(num_parameters=1)\n",
       "            )\n",
       "          )\n",
       "          (1): ResidualUnit(\n",
       "            (conv): Sequential(\n",
       "              (unit0): Convolution(\n",
       "                (conv): Conv3d(16, 16, kernel_size=(3, 3, 3), stride=(1, 1, 1), padding=(1, 1, 1))\n",
       "                (adn): ADN(\n",
       "                  (N): BatchNorm3d(16, eps=1e-05, momentum=0.1, affine=True, track_running_stats=True)\n",
       "                  (D): Dropout(p=0.15, inplace=False)\n",
       "                  (A): PReLU(num_parameters=1)\n",
       "                )\n",
       "              )\n",
       "            )\n",
       "            (residual): Identity()\n",
       "          )\n",
       "        )\n",
       "      )\n",
       "    )\n",
       "    (2): Sequential(\n",
       "      (0): Convolution(\n",
       "        (conv): ConvTranspose3d(32, 3, kernel_size=(3, 3, 3), stride=(2, 2, 2), padding=(1, 1, 1), output_padding=(1, 1, 1))\n",
       "        (adn): ADN(\n",
       "          (N): BatchNorm3d(3, eps=1e-05, momentum=0.1, affine=True, track_running_stats=True)\n",
       "          (D): Dropout(p=0.15, inplace=False)\n",
       "          (A): PReLU(num_parameters=1)\n",
       "        )\n",
       "      )\n",
       "      (1): ResidualUnit(\n",
       "        (conv): Sequential(\n",
       "          (unit0): Convolution(\n",
       "            (conv): Conv3d(3, 3, kernel_size=(3, 3, 3), stride=(1, 1, 1), padding=(1, 1, 1))\n",
       "          )\n",
       "        )\n",
       "        (residual): Identity()\n",
       "      )\n",
       "    )\n",
       "  )\n",
       ")"
      ]
     },
     "execution_count": 28,
     "metadata": {},
     "output_type": "execute_result"
    }
   ],
   "source": [
    "# Load model from bundle\n",
    "parser = ConfigParser()\n",
    "parser.read_config(config_path)\n",
    "parser[\"bundle_root\"] = bundle_dir\n",
    "\n",
    "# Load model and weights\n",
    "network = parser.get_parsed_content(\"network_def\").to(device)\n",
    "weights = torch.load(model_weights, map_location=device)\n",
    "network.load_state_dict(weights)\n",
    "network.eval()"
   ]
  },
  {
   "cell_type": "code",
   "execution_count": 29,
   "id": "bebf6108",
   "metadata": {},
   "outputs": [],
   "source": [
    "# Dice metric\n",
    "dice_metric = DiceMetric(include_background=False, reduction=\"mean\")\n",
    "dice_scores = []"
   ]
  },
  {
   "cell_type": "markdown",
   "id": "f7bbb45f",
   "metadata": {},
   "source": [
    "### Preprocessing Pipeline for Input Images\n",
    "\n",
    "Defines a manual preprocessing pipeline for T2-weighted MRI images and gland masks. The steps include:\n",
    "\n",
    "- `LoadImage`: Load the NIfTI file from disk.\n",
    "- `EnsureChannelFirst`: Convert image to channel-first format `[C, D, H, W]`.\n",
    "- `Resize`: Resize to a fixed spatial size of `(96, 96, 96)` to match model input requirements.\n",
    "- `ScaleIntensity`: Normalize intensity values to the range [0, 1].\n",
    "- `ToTensor`: Convert the result to a PyTorch tensor.\n",
    "\n",
    "A helper function `preprocess_image()` applies the pipeline and adds a batch dimension, producing tensors of shape `[1, C, D, H, W]`.\n",
    "\n",
    "> Note: The preprocessing configuration from `inference.json` was initially tested, but it resulted in poor Dice scores on the D2 dataset. Manual preprocessing produced better results and was used instead.\n"
   ]
  },
  {
   "cell_type": "code",
   "execution_count": 30,
   "id": "1d257829",
   "metadata": {},
   "outputs": [],
   "source": [
    "# Manual preprocessing pipeline for a single image\n",
    "preprocess = Compose([\n",
    "    LoadImage(image_only=True),\n",
    "    EnsureChannelFirst(),\n",
    "    Resize((96, 96, 96)),\n",
    "    ScaleIntensity(),\n",
    "    ToTensor()\n",
    "])\n",
    "\n",
    "# Preprocessing helper\n",
    "def preprocess_image(path):\n",
    "    return preprocess(path).unsqueeze(0)  # [1, C, D, H, W]\n"
   ]
  },
  {
   "cell_type": "code",
   "execution_count": 31,
   "id": "94fdc15b",
   "metadata": {},
   "outputs": [],
   "source": [
    "# Load cohort\n",
    "df = pd.read_csv(cohort_path)"
   ]
  },
  {
   "cell_type": "markdown",
   "id": "51db5c9f",
   "metadata": {},
   "source": [
    "### Evaluation of Pre-trained Model on D2 Dataset\n",
    "\n",
    "This cell performs inference using the pre-trained model on the external D2 dataset and evaluates its performance:\n",
    "\n",
    "- For each patient listed in `cohort.csv`, the corresponding T2-weighted MRI and gland segmentation mask are loaded and preprocessed.\n",
    "- The pre-trained model performs inference using a sliding window approach with a region of interest size of `(96, 96, 96)`.\n",
    "- Predictions are binarized for the central gland (channel 1) using a threshold of 0.5.\n",
    "- The Dice score is computed between the predicted segmentation and the ground truth mask using MONAI's `DiceMetric`.\n",
    "- Results are printed for each patient and saved in a `results_df` DataFrame for further analysis.\n",
    "\n",
    "Additionally:\n",
    "- Predictions and ground truth masks are stored in `all_preds` and `all_gts` dictionaries for potential visualization or statistical evaluation.\n"
   ]
  },
  {
   "cell_type": "code",
   "execution_count": 32,
   "id": "3e6d8d2f",
   "metadata": {},
   "outputs": [
    {
     "name": "stdout",
     "output_type": "stream",
     "text": [
      "\n",
      " Evaluating pre-trained model on D2...\n"
     ]
    },
    {
     "name": "stderr",
     "output_type": "stream",
     "text": [
      "  0%|          | 0/80 [00:00<?, ?it/s]"
     ]
    },
    {
     "name": "stdout",
     "output_type": "stream",
     "text": [
      "\n",
      " Processing patient: 11284\n"
     ]
    },
    {
     "name": "stderr",
     "output_type": "stream",
     "text": [
      "  1%|▏         | 1/80 [00:00<00:28,  2.73it/s]"
     ]
    },
    {
     "name": "stdout",
     "output_type": "stream",
     "text": [
      "Pred sum: 660262.00, GT sum: 884730.00\n",
      "Dice Score: 0.8547\n",
      "\n",
      " Processing patient: 10372\n"
     ]
    },
    {
     "name": "stderr",
     "output_type": "stream",
     "text": [
      "  2%|▎         | 2/80 [00:00<00:26,  2.90it/s]"
     ]
    },
    {
     "name": "stdout",
     "output_type": "stream",
     "text": [
      "Pred sum: 664327.00, GT sum: 884733.00\n",
      "Dice Score: 0.8577\n",
      "\n",
      " Processing patient: 10768\n"
     ]
    },
    {
     "name": "stderr",
     "output_type": "stream",
     "text": [
      "  4%|▍         | 3/80 [00:01<00:25,  3.01it/s]"
     ]
    },
    {
     "name": "stdout",
     "output_type": "stream",
     "text": [
      "Pred sum: 683839.00, GT sum: 884733.00\n",
      "Dice Score: 0.8719\n",
      "\n",
      " Processing patient: 10074\n"
     ]
    },
    {
     "name": "stderr",
     "output_type": "stream",
     "text": [
      "  5%|▌         | 4/80 [00:01<00:24,  3.07it/s]"
     ]
    },
    {
     "name": "stdout",
     "output_type": "stream",
     "text": [
      "Pred sum: 701718.00, GT sum: 884733.00\n",
      "Dice Score: 0.8846\n",
      "\n",
      " Processing patient: 10418\n"
     ]
    },
    {
     "name": "stderr",
     "output_type": "stream",
     "text": [
      "  6%|▋         | 5/80 [00:01<00:27,  2.78it/s]"
     ]
    },
    {
     "name": "stdout",
     "output_type": "stream",
     "text": [
      "Pred sum: 654565.00, GT sum: 884730.00\n",
      "Dice Score: 0.8505\n",
      "\n",
      " Processing patient: 11165\n"
     ]
    },
    {
     "name": "stderr",
     "output_type": "stream",
     "text": [
      "  8%|▊         | 6/80 [00:02<00:26,  2.82it/s]"
     ]
    },
    {
     "name": "stdout",
     "output_type": "stream",
     "text": [
      "Pred sum: 674442.00, GT sum: 884730.00\n",
      "Dice Score: 0.8651\n",
      "\n",
      " Processing patient: 10442\n"
     ]
    },
    {
     "name": "stderr",
     "output_type": "stream",
     "text": [
      "  9%|▉         | 7/80 [00:02<00:25,  2.87it/s]"
     ]
    },
    {
     "name": "stdout",
     "output_type": "stream",
     "text": [
      "Pred sum: 734200.00, GT sum: 884733.00\n",
      "Dice Score: 0.9070\n",
      "\n",
      " Processing patient: 10486\n"
     ]
    },
    {
     "name": "stderr",
     "output_type": "stream",
     "text": [
      " 10%|█         | 8/80 [00:02<00:27,  2.60it/s]"
     ]
    },
    {
     "name": "stdout",
     "output_type": "stream",
     "text": [
      "Pred sum: 721072.00, GT sum: 884733.00\n",
      "Dice Score: 0.8981\n",
      "\n",
      " Processing patient: 10043\n"
     ]
    },
    {
     "name": "stderr",
     "output_type": "stream",
     "text": [
      " 11%|█▏        | 9/80 [00:03<00:27,  2.58it/s]"
     ]
    },
    {
     "name": "stdout",
     "output_type": "stream",
     "text": [
      "Pred sum: 645985.00, GT sum: 884730.00\n",
      "Dice Score: 0.8440\n",
      "\n",
      " Processing patient: 10164\n"
     ]
    },
    {
     "name": "stderr",
     "output_type": "stream",
     "text": [
      " 12%|█▎        | 10/80 [00:03<00:25,  2.70it/s]"
     ]
    },
    {
     "name": "stdout",
     "output_type": "stream",
     "text": [
      "Pred sum: 716551.00, GT sum: 884733.00\n",
      "Dice Score: 0.8950\n",
      "\n",
      " Processing patient: 10241\n"
     ]
    },
    {
     "name": "stderr",
     "output_type": "stream",
     "text": [
      " 14%|█▍        | 11/80 [00:03<00:24,  2.79it/s]"
     ]
    },
    {
     "name": "stdout",
     "output_type": "stream",
     "text": [
      "Pred sum: 671722.00, GT sum: 884730.00\n",
      "Dice Score: 0.8631\n",
      "\n",
      " Processing patient: 10522\n"
     ]
    },
    {
     "name": "stderr",
     "output_type": "stream",
     "text": [
      " 15%|█▌        | 12/80 [00:04<00:23,  2.90it/s]"
     ]
    },
    {
     "name": "stdout",
     "output_type": "stream",
     "text": [
      "Pred sum: 735394.00, GT sum: 884733.00\n",
      "Dice Score: 0.9078\n",
      "\n",
      " Processing patient: 10728\n"
     ]
    },
    {
     "name": "stderr",
     "output_type": "stream",
     "text": [
      " 16%|█▋        | 13/80 [00:04<00:23,  2.84it/s]"
     ]
    },
    {
     "name": "stdout",
     "output_type": "stream",
     "text": [
      "Pred sum: 709290.00, GT sum: 884733.00\n",
      "Dice Score: 0.8899\n",
      "\n",
      " Processing patient: 10825\n"
     ]
    },
    {
     "name": "stderr",
     "output_type": "stream",
     "text": [
      " 18%|█▊        | 14/80 [00:04<00:22,  2.90it/s]"
     ]
    },
    {
     "name": "stdout",
     "output_type": "stream",
     "text": [
      "Pred sum: 693619.00, GT sum: 884733.00\n",
      "Dice Score: 0.8789\n",
      "\n",
      " Processing patient: 11137\n"
     ]
    },
    {
     "name": "stderr",
     "output_type": "stream",
     "text": [
      " 19%|█▉        | 15/80 [00:05<00:22,  2.94it/s]"
     ]
    },
    {
     "name": "stdout",
     "output_type": "stream",
     "text": [
      "Pred sum: 699427.00, GT sum: 884733.00\n",
      "Dice Score: 0.8830\n",
      "\n",
      " Processing patient: 11236\n"
     ]
    },
    {
     "name": "stderr",
     "output_type": "stream",
     "text": [
      " 20%|██        | 16/80 [00:05<00:21,  3.02it/s]"
     ]
    },
    {
     "name": "stdout",
     "output_type": "stream",
     "text": [
      "Pred sum: 728438.00, GT sum: 884733.00\n",
      "Dice Score: 0.9031\n",
      "\n",
      " Processing patient: 11361\n"
     ]
    },
    {
     "name": "stderr",
     "output_type": "stream",
     "text": [
      " 21%|██▏       | 17/80 [00:05<00:20,  3.07it/s]"
     ]
    },
    {
     "name": "stdout",
     "output_type": "stream",
     "text": [
      "Pred sum: 645629.00, GT sum: 884733.00\n",
      "Dice Score: 0.8438\n",
      "\n",
      " Processing patient: 10107\n"
     ]
    },
    {
     "name": "stderr",
     "output_type": "stream",
     "text": [
      " 22%|██▎       | 18/80 [00:06<00:20,  3.08it/s]"
     ]
    },
    {
     "name": "stdout",
     "output_type": "stream",
     "text": [
      "Pred sum: 603244.00, GT sum: 884730.00\n",
      "Dice Score: 0.8108\n",
      "\n",
      " Processing patient: 10539\n"
     ]
    },
    {
     "name": "stderr",
     "output_type": "stream",
     "text": [
      " 24%|██▍       | 19/80 [00:06<00:20,  2.97it/s]"
     ]
    },
    {
     "name": "stdout",
     "output_type": "stream",
     "text": [
      "Pred sum: 671332.00, GT sum: 884733.00\n",
      "Dice Score: 0.8629\n",
      "\n",
      " Processing patient: 10743\n"
     ]
    },
    {
     "name": "stderr",
     "output_type": "stream",
     "text": [
      " 25%|██▌       | 20/80 [00:06<00:20,  2.98it/s]"
     ]
    },
    {
     "name": "stdout",
     "output_type": "stream",
     "text": [
      "Pred sum: 718962.00, GT sum: 884733.00\n",
      "Dice Score: 0.8966\n",
      "\n",
      " Processing patient: 10910\n"
     ]
    },
    {
     "name": "stderr",
     "output_type": "stream",
     "text": [
      " 26%|██▋       | 21/80 [00:07<00:19,  3.03it/s]"
     ]
    },
    {
     "name": "stdout",
     "output_type": "stream",
     "text": [
      "Pred sum: 685688.00, GT sum: 884733.00\n",
      "Dice Score: 0.8732\n",
      "\n",
      " Processing patient: 11051\n"
     ]
    },
    {
     "name": "stderr",
     "output_type": "stream",
     "text": [
      " 28%|██▊       | 22/80 [00:07<00:18,  3.06it/s]"
     ]
    },
    {
     "name": "stdout",
     "output_type": "stream",
     "text": [
      "Pred sum: 659695.00, GT sum: 884730.00\n",
      "Dice Score: 0.8543\n",
      "\n",
      " Processing patient: 11086\n"
     ]
    },
    {
     "name": "stderr",
     "output_type": "stream",
     "text": [
      " 29%|██▉       | 23/80 [00:07<00:18,  3.06it/s]"
     ]
    },
    {
     "name": "stdout",
     "output_type": "stream",
     "text": [
      "Pred sum: 620639.00, GT sum: 884733.00\n",
      "Dice Score: 0.8246\n",
      "\n",
      " Processing patient: 11155\n"
     ]
    },
    {
     "name": "stderr",
     "output_type": "stream",
     "text": [
      " 30%|███       | 24/80 [00:08<00:18,  3.03it/s]"
     ]
    },
    {
     "name": "stdout",
     "output_type": "stream",
     "text": [
      "Pred sum: 640128.00, GT sum: 884730.00\n",
      "Dice Score: 0.8396\n",
      "\n",
      " Processing patient: 11444\n"
     ]
    },
    {
     "name": "stderr",
     "output_type": "stream",
     "text": [
      " 31%|███▏      | 25/80 [00:08<00:19,  2.85it/s]"
     ]
    },
    {
     "name": "stdout",
     "output_type": "stream",
     "text": [
      "Pred sum: 660981.00, GT sum: 884730.00\n",
      "Dice Score: 0.8552\n",
      "\n",
      " Processing patient: 10005\n"
     ]
    },
    {
     "name": "stderr",
     "output_type": "stream",
     "text": [
      " 32%|███▎      | 26/80 [00:08<00:18,  2.85it/s]"
     ]
    },
    {
     "name": "stdout",
     "output_type": "stream",
     "text": [
      "Pred sum: 705330.00, GT sum: 884730.00\n",
      "Dice Score: 0.8872\n",
      "\n",
      " Processing patient: 10329\n"
     ]
    },
    {
     "name": "stderr",
     "output_type": "stream",
     "text": [
      " 34%|███▍      | 27/80 [00:09<00:18,  2.91it/s]"
     ]
    },
    {
     "name": "stdout",
     "output_type": "stream",
     "text": [
      "Pred sum: 664597.00, GT sum: 884733.00\n",
      "Dice Score: 0.8579\n",
      "\n",
      " Processing patient: 10434\n"
     ]
    },
    {
     "name": "stderr",
     "output_type": "stream",
     "text": [
      " 35%|███▌      | 28/80 [00:09<00:17,  2.94it/s]"
     ]
    },
    {
     "name": "stdout",
     "output_type": "stream",
     "text": [
      "Pred sum: 659330.00, GT sum: 884730.00\n",
      "Dice Score: 0.8540\n",
      "\n",
      " Processing patient: 10484\n"
     ]
    },
    {
     "name": "stderr",
     "output_type": "stream",
     "text": [
      " 36%|███▋      | 29/80 [00:09<00:17,  2.99it/s]"
     ]
    },
    {
     "name": "stdout",
     "output_type": "stream",
     "text": [
      "Pred sum: 619558.00, GT sum: 884733.00\n",
      "Dice Score: 0.8237\n",
      "\n",
      " Processing patient: 10807\n"
     ]
    },
    {
     "name": "stderr",
     "output_type": "stream",
     "text": [
      " 38%|███▊      | 30/80 [00:10<00:16,  3.04it/s]"
     ]
    },
    {
     "name": "stdout",
     "output_type": "stream",
     "text": [
      "Pred sum: 706661.00, GT sum: 884733.00\n",
      "Dice Score: 0.8881\n",
      "\n",
      " Processing patient: 10888\n"
     ]
    },
    {
     "name": "stderr",
     "output_type": "stream",
     "text": [
      " 39%|███▉      | 31/80 [00:10<00:15,  3.07it/s]"
     ]
    },
    {
     "name": "stdout",
     "output_type": "stream",
     "text": [
      "Pred sum: 698109.00, GT sum: 884733.00\n",
      "Dice Score: 0.8821\n",
      "\n",
      " Processing patient: 11177\n"
     ]
    },
    {
     "name": "stderr",
     "output_type": "stream",
     "text": [
      " 40%|████      | 32/80 [00:10<00:15,  3.12it/s]"
     ]
    },
    {
     "name": "stdout",
     "output_type": "stream",
     "text": [
      "Pred sum: 750001.00, GT sum: 884733.00\n",
      "Dice Score: 0.9176\n",
      "\n",
      " Processing patient: 11253\n"
     ]
    },
    {
     "name": "stderr",
     "output_type": "stream",
     "text": [
      " 41%|████▏     | 33/80 [00:11<00:15,  3.10it/s]"
     ]
    },
    {
     "name": "stdout",
     "output_type": "stream",
     "text": [
      "Pred sum: 661378.00, GT sum: 884730.00\n",
      "Dice Score: 0.8555\n",
      "\n",
      " Processing patient: 11300\n"
     ]
    },
    {
     "name": "stderr",
     "output_type": "stream",
     "text": [
      " 42%|████▎     | 34/80 [00:11<00:14,  3.12it/s]"
     ]
    },
    {
     "name": "stdout",
     "output_type": "stream",
     "text": [
      "Pred sum: 676792.00, GT sum: 884730.00\n",
      "Dice Score: 0.8668\n",
      "\n",
      " Processing patient: 10085\n"
     ]
    },
    {
     "name": "stderr",
     "output_type": "stream",
     "text": [
      " 44%|████▍     | 35/80 [00:11<00:14,  3.14it/s]"
     ]
    },
    {
     "name": "stdout",
     "output_type": "stream",
     "text": [
      "Pred sum: 642133.00, GT sum: 884733.00\n",
      "Dice Score: 0.8411\n",
      "\n",
      " Processing patient: 10274\n"
     ]
    },
    {
     "name": "stderr",
     "output_type": "stream",
     "text": [
      " 45%|████▌     | 36/80 [00:12<00:13,  3.17it/s]"
     ]
    },
    {
     "name": "stdout",
     "output_type": "stream",
     "text": [
      "Pred sum: 720575.00, GT sum: 884733.00\n",
      "Dice Score: 0.8977\n",
      "\n",
      " Processing patient: 10380\n"
     ]
    },
    {
     "name": "stderr",
     "output_type": "stream",
     "text": [
      " 46%|████▋     | 37/80 [00:12<00:13,  3.12it/s]"
     ]
    },
    {
     "name": "stdout",
     "output_type": "stream",
     "text": [
      "Pred sum: 690286.00, GT sum: 884730.00\n",
      "Dice Score: 0.8765\n",
      "\n",
      " Processing patient: 10390\n"
     ]
    },
    {
     "name": "stderr",
     "output_type": "stream",
     "text": [
      " 48%|████▊     | 38/80 [00:12<00:13,  3.10it/s]"
     ]
    },
    {
     "name": "stdout",
     "output_type": "stream",
     "text": [
      "Pred sum: 747631.00, GT sum: 884733.00\n",
      "Dice Score: 0.9160\n",
      "\n",
      " Processing patient: 10665\n"
     ]
    },
    {
     "name": "stderr",
     "output_type": "stream",
     "text": [
      " 49%|████▉     | 39/80 [00:13<00:13,  3.09it/s]"
     ]
    },
    {
     "name": "stdout",
     "output_type": "stream",
     "text": [
      "Pred sum: 699782.00, GT sum: 884733.00\n",
      "Dice Score: 0.8833\n",
      "\n",
      " Processing patient: 10872\n"
     ]
    },
    {
     "name": "stderr",
     "output_type": "stream",
     "text": [
      " 50%|█████     | 40/80 [00:13<00:13,  2.94it/s]"
     ]
    },
    {
     "name": "stdout",
     "output_type": "stream",
     "text": [
      "Pred sum: 669169.00, GT sum: 884733.00\n",
      "Dice Score: 0.8613\n",
      "\n",
      " Processing patient: 11168\n"
     ]
    },
    {
     "name": "stderr",
     "output_type": "stream",
     "text": [
      " 51%|█████▏    | 41/80 [00:13<00:12,  3.00it/s]"
     ]
    },
    {
     "name": "stdout",
     "output_type": "stream",
     "text": [
      "Pred sum: 697349.00, GT sum: 884730.00\n",
      "Dice Score: 0.8816\n",
      "\n",
      " Processing patient: 10059\n"
     ]
    },
    {
     "name": "stderr",
     "output_type": "stream",
     "text": [
      " 52%|█████▎    | 42/80 [00:14<00:13,  2.85it/s]"
     ]
    },
    {
     "name": "stdout",
     "output_type": "stream",
     "text": [
      "Pred sum: 643019.00, GT sum: 884730.00\n",
      "Dice Score: 0.8418\n",
      "\n",
      " Processing patient: 10262\n"
     ]
    },
    {
     "name": "stderr",
     "output_type": "stream",
     "text": [
      " 54%|█████▍    | 43/80 [00:14<00:12,  2.88it/s]"
     ]
    },
    {
     "name": "stdout",
     "output_type": "stream",
     "text": [
      "Pred sum: 581964.00, GT sum: 884730.00\n",
      "Dice Score: 0.7936\n",
      "\n",
      " Processing patient: 10322\n"
     ]
    },
    {
     "name": "stderr",
     "output_type": "stream",
     "text": [
      " 55%|█████▌    | 44/80 [00:15<00:13,  2.70it/s]"
     ]
    },
    {
     "name": "stdout",
     "output_type": "stream",
     "text": [
      "Pred sum: 623204.00, GT sum: 884730.00\n",
      "Dice Score: 0.8266\n",
      "\n",
      " Processing patient: 10340\n"
     ]
    },
    {
     "name": "stderr",
     "output_type": "stream",
     "text": [
      " 56%|█████▋    | 45/80 [00:15<00:12,  2.73it/s]"
     ]
    },
    {
     "name": "stdout",
     "output_type": "stream",
     "text": [
      "Pred sum: 593914.00, GT sum: 884733.00\n",
      "Dice Score: 0.8033\n",
      "\n",
      " Processing patient: 10607\n"
     ]
    },
    {
     "name": "stderr",
     "output_type": "stream",
     "text": [
      " 57%|█████▊    | 46/80 [00:15<00:12,  2.76it/s]"
     ]
    },
    {
     "name": "stdout",
     "output_type": "stream",
     "text": [
      "Pred sum: 695585.00, GT sum: 884730.00\n",
      "Dice Score: 0.8803\n",
      "\n",
      " Processing patient: 10798\n"
     ]
    },
    {
     "name": "stderr",
     "output_type": "stream",
     "text": [
      " 59%|█████▉    | 47/80 [00:16<00:11,  2.82it/s]"
     ]
    },
    {
     "name": "stdout",
     "output_type": "stream",
     "text": [
      "Pred sum: 673170.00, GT sum: 884733.00\n",
      "Dice Score: 0.8642\n",
      "\n",
      " Processing patient: 10839\n"
     ]
    },
    {
     "name": "stderr",
     "output_type": "stream",
     "text": [
      " 60%|██████    | 48/80 [00:16<00:11,  2.83it/s]"
     ]
    },
    {
     "name": "stdout",
     "output_type": "stream",
     "text": [
      "Pred sum: 676511.00, GT sum: 884730.00\n",
      "Dice Score: 0.8666\n",
      "\n",
      " Processing patient: 10915\n"
     ]
    },
    {
     "name": "stderr",
     "output_type": "stream",
     "text": [
      " 61%|██████▏   | 49/80 [00:16<00:10,  2.87it/s]"
     ]
    },
    {
     "name": "stdout",
     "output_type": "stream",
     "text": [
      "Pred sum: 615584.00, GT sum: 884733.00\n",
      "Dice Score: 0.8206\n",
      "\n",
      " Processing patient: 11231\n"
     ]
    },
    {
     "name": "stderr",
     "output_type": "stream",
     "text": [
      " 62%|██████▎   | 50/80 [00:17<00:10,  2.87it/s]"
     ]
    },
    {
     "name": "stdout",
     "output_type": "stream",
     "text": [
      "Pred sum: 635882.00, GT sum: 884730.00\n",
      "Dice Score: 0.8363\n",
      "\n",
      " Processing patient: 11278\n"
     ]
    },
    {
     "name": "stderr",
     "output_type": "stream",
     "text": [
      " 64%|██████▍   | 51/80 [00:17<00:10,  2.87it/s]"
     ]
    },
    {
     "name": "stdout",
     "output_type": "stream",
     "text": [
      "Pred sum: 722909.00, GT sum: 884730.00\n",
      "Dice Score: 0.8993\n",
      "\n",
      " Processing patient: 10040\n"
     ]
    },
    {
     "name": "stderr",
     "output_type": "stream",
     "text": [
      " 65%|██████▌   | 52/80 [00:17<00:10,  2.73it/s]"
     ]
    },
    {
     "name": "stdout",
     "output_type": "stream",
     "text": [
      "Pred sum: 661312.00, GT sum: 884730.00\n",
      "Dice Score: 0.8555\n",
      "\n",
      " Processing patient: 10117\n"
     ]
    },
    {
     "name": "stderr",
     "output_type": "stream",
     "text": [
      " 66%|██████▋   | 53/80 [00:18<00:09,  2.80it/s]"
     ]
    },
    {
     "name": "stdout",
     "output_type": "stream",
     "text": [
      "Pred sum: 708130.00, GT sum: 884733.00\n",
      "Dice Score: 0.8891\n",
      "\n",
      " Processing patient: 10168\n"
     ]
    },
    {
     "name": "stderr",
     "output_type": "stream",
     "text": [
      " 68%|██████▊   | 54/80 [00:18<00:08,  2.91it/s]"
     ]
    },
    {
     "name": "stdout",
     "output_type": "stream",
     "text": [
      "Pred sum: 759030.00, GT sum: 884730.00\n",
      "Dice Score: 0.9235\n",
      "\n",
      " Processing patient: 10211\n"
     ]
    },
    {
     "name": "stderr",
     "output_type": "stream",
     "text": [
      " 69%|██████▉   | 55/80 [00:18<00:08,  2.98it/s]"
     ]
    },
    {
     "name": "stdout",
     "output_type": "stream",
     "text": [
      "Pred sum: 618442.00, GT sum: 884730.00\n",
      "Dice Score: 0.8228\n",
      "\n",
      " Processing patient: 10216\n"
     ]
    },
    {
     "name": "stderr",
     "output_type": "stream",
     "text": [
      " 70%|███████   | 56/80 [00:19<00:08,  2.99it/s]"
     ]
    },
    {
     "name": "stdout",
     "output_type": "stream",
     "text": [
      "Pred sum: 626033.00, GT sum: 884733.00\n",
      "Dice Score: 0.8288\n",
      "\n",
      " Processing patient: 10339\n"
     ]
    },
    {
     "name": "stderr",
     "output_type": "stream",
     "text": [
      " 71%|███████▏  | 57/80 [00:19<00:07,  2.99it/s]"
     ]
    },
    {
     "name": "stdout",
     "output_type": "stream",
     "text": [
      "Pred sum: 662542.00, GT sum: 884733.00\n",
      "Dice Score: 0.8564\n",
      "\n",
      " Processing patient: 10568\n"
     ]
    },
    {
     "name": "stderr",
     "output_type": "stream",
     "text": [
      " 72%|███████▎  | 58/80 [00:19<00:07,  2.99it/s]"
     ]
    },
    {
     "name": "stdout",
     "output_type": "stream",
     "text": [
      "Pred sum: 672045.00, GT sum: 884730.00\n",
      "Dice Score: 0.8634\n",
      "\n",
      " Processing patient: 10668\n"
     ]
    },
    {
     "name": "stderr",
     "output_type": "stream",
     "text": [
      " 74%|███████▍  | 59/80 [00:20<00:06,  3.03it/s]"
     ]
    },
    {
     "name": "stdout",
     "output_type": "stream",
     "text": [
      "Pred sum: 749604.00, GT sum: 884733.00\n",
      "Dice Score: 0.9173\n",
      "\n",
      " Processing patient: 10699\n"
     ]
    },
    {
     "name": "stderr",
     "output_type": "stream",
     "text": [
      " 75%|███████▌  | 60/80 [00:20<00:06,  3.02it/s]"
     ]
    },
    {
     "name": "stdout",
     "output_type": "stream",
     "text": [
      "Pred sum: 608272.00, GT sum: 884730.00\n",
      "Dice Score: 0.8148\n",
      "\n",
      " Processing patient: 11122\n"
     ]
    },
    {
     "name": "stderr",
     "output_type": "stream",
     "text": [
      " 76%|███████▋  | 61/80 [00:20<00:06,  3.01it/s]"
     ]
    },
    {
     "name": "stdout",
     "output_type": "stream",
     "text": [
      "Pred sum: 659846.00, GT sum: 884730.00\n",
      "Dice Score: 0.8544\n",
      "\n",
      " Processing patient: 11188\n"
     ]
    },
    {
     "name": "stderr",
     "output_type": "stream",
     "text": [
      " 78%|███████▊  | 62/80 [00:21<00:06,  2.95it/s]"
     ]
    },
    {
     "name": "stdout",
     "output_type": "stream",
     "text": [
      "Pred sum: 736823.00, GT sum: 884733.00\n",
      "Dice Score: 0.9088\n",
      "\n",
      " Processing patient: 11247\n"
     ]
    },
    {
     "name": "stderr",
     "output_type": "stream",
     "text": [
      " 79%|███████▉  | 63/80 [00:21<00:05,  2.97it/s]"
     ]
    },
    {
     "name": "stdout",
     "output_type": "stream",
     "text": [
      "Pred sum: 618891.00, GT sum: 884730.00\n",
      "Dice Score: 0.8232\n",
      "\n",
      " Processing patient: 11260\n"
     ]
    },
    {
     "name": "stderr",
     "output_type": "stream",
     "text": [
      " 80%|████████  | 64/80 [00:21<00:05,  2.99it/s]"
     ]
    },
    {
     "name": "stdout",
     "output_type": "stream",
     "text": [
      "Pred sum: 693842.00, GT sum: 884733.00\n",
      "Dice Score: 0.8791\n",
      "\n",
      " Processing patient: 11280\n"
     ]
    },
    {
     "name": "stderr",
     "output_type": "stream",
     "text": [
      " 81%|████████▏ | 65/80 [00:22<00:04,  3.01it/s]"
     ]
    },
    {
     "name": "stdout",
     "output_type": "stream",
     "text": [
      "Pred sum: 708867.00, GT sum: 884733.00\n",
      "Dice Score: 0.8896\n",
      "\n",
      " Processing patient: 10048\n"
     ]
    },
    {
     "name": "stderr",
     "output_type": "stream",
     "text": [
      " 82%|████████▎ | 66/80 [00:22<00:04,  3.02it/s]"
     ]
    },
    {
     "name": "stdout",
     "output_type": "stream",
     "text": [
      "Pred sum: 607650.00, GT sum: 884730.00\n",
      "Dice Score: 0.8143\n",
      "\n",
      " Processing patient: 10097\n"
     ]
    },
    {
     "name": "stderr",
     "output_type": "stream",
     "text": [
      " 84%|████████▍ | 67/80 [00:22<00:04,  3.05it/s]"
     ]
    },
    {
     "name": "stdout",
     "output_type": "stream",
     "text": [
      "Pred sum: 683898.00, GT sum: 884733.00\n",
      "Dice Score: 0.8720\n",
      "\n",
      " Processing patient: 10233\n"
     ]
    },
    {
     "name": "stderr",
     "output_type": "stream",
     "text": [
      " 85%|████████▌ | 68/80 [00:23<00:03,  3.06it/s]"
     ]
    },
    {
     "name": "stdout",
     "output_type": "stream",
     "text": [
      "Pred sum: 717788.00, GT sum: 884733.00\n",
      "Dice Score: 0.8958\n",
      "\n",
      " Processing patient: 10268\n"
     ]
    },
    {
     "name": "stderr",
     "output_type": "stream",
     "text": [
      " 86%|████████▋ | 69/80 [00:23<00:03,  3.04it/s]"
     ]
    },
    {
     "name": "stdout",
     "output_type": "stream",
     "text": [
      "Pred sum: 665402.00, GT sum: 884733.00\n",
      "Dice Score: 0.8585\n",
      "\n",
      " Processing patient: 10294\n"
     ]
    },
    {
     "name": "stderr",
     "output_type": "stream",
     "text": [
      " 88%|████████▊ | 70/80 [00:23<00:03,  3.07it/s]"
     ]
    },
    {
     "name": "stdout",
     "output_type": "stream",
     "text": [
      "Pred sum: 700812.00, GT sum: 884733.00\n",
      "Dice Score: 0.8840\n",
      "\n",
      " Processing patient: 10503\n"
     ]
    },
    {
     "name": "stderr",
     "output_type": "stream",
     "text": [
      " 89%|████████▉ | 71/80 [00:24<00:02,  3.06it/s]"
     ]
    },
    {
     "name": "stdout",
     "output_type": "stream",
     "text": [
      "Pred sum: 656356.00, GT sum: 884730.00\n",
      "Dice Score: 0.8518\n",
      "\n",
      " Processing patient: 10589\n"
     ]
    },
    {
     "name": "stderr",
     "output_type": "stream",
     "text": [
      " 90%|█████████ | 72/80 [00:24<00:02,  3.10it/s]"
     ]
    },
    {
     "name": "stdout",
     "output_type": "stream",
     "text": [
      "Pred sum: 670462.00, GT sum: 884730.00\n",
      "Dice Score: 0.8622\n",
      "\n",
      " Processing patient: 10804\n"
     ]
    },
    {
     "name": "stderr",
     "output_type": "stream",
     "text": [
      " 91%|█████████▏| 73/80 [00:24<00:02,  3.03it/s]"
     ]
    },
    {
     "name": "stdout",
     "output_type": "stream",
     "text": [
      "Pred sum: 626052.00, GT sum: 884730.00\n",
      "Dice Score: 0.8288\n",
      "\n",
      " Processing patient: 10968\n"
     ]
    },
    {
     "name": "stderr",
     "output_type": "stream",
     "text": [
      " 92%|█████████▎| 74/80 [00:25<00:01,  3.02it/s]"
     ]
    },
    {
     "name": "stdout",
     "output_type": "stream",
     "text": [
      "Pred sum: 663311.00, GT sum: 884733.00\n",
      "Dice Score: 0.8570\n",
      "\n",
      " Processing patient: 11229\n"
     ]
    },
    {
     "name": "stderr",
     "output_type": "stream",
     "text": [
      " 94%|█████████▍| 75/80 [00:25<00:01,  3.01it/s]"
     ]
    },
    {
     "name": "stdout",
     "output_type": "stream",
     "text": [
      "Pred sum: 591833.00, GT sum: 884730.00\n",
      "Dice Score: 0.8016\n",
      "\n",
      " Processing patient: 11384\n"
     ]
    },
    {
     "name": "stderr",
     "output_type": "stream",
     "text": [
      " 95%|█████████▌| 76/80 [00:25<00:01,  3.04it/s]"
     ]
    },
    {
     "name": "stdout",
     "output_type": "stream",
     "text": [
      "Pred sum: 697658.00, GT sum: 884733.00\n",
      "Dice Score: 0.8818\n",
      "\n",
      " Processing patient: 10157\n"
     ]
    },
    {
     "name": "stderr",
     "output_type": "stream",
     "text": [
      " 96%|█████████▋| 77/80 [00:26<00:00,  3.03it/s]"
     ]
    },
    {
     "name": "stdout",
     "output_type": "stream",
     "text": [
      "Pred sum: 690759.00, GT sum: 884730.00\n",
      "Dice Score: 0.8769\n",
      "\n",
      " Processing patient: 10383\n"
     ]
    },
    {
     "name": "stderr",
     "output_type": "stream",
     "text": [
      " 98%|█████████▊| 78/80 [00:26<00:00,  3.03it/s]"
     ]
    },
    {
     "name": "stdout",
     "output_type": "stream",
     "text": [
      "Pred sum: 682913.00, GT sum: 884730.00\n",
      "Dice Score: 0.8713\n",
      "\n",
      " Processing patient: 11256\n"
     ]
    },
    {
     "name": "stderr",
     "output_type": "stream",
     "text": [
      " 99%|█████████▉| 79/80 [00:26<00:00,  3.03it/s]"
     ]
    },
    {
     "name": "stdout",
     "output_type": "stream",
     "text": [
      "Pred sum: 704223.00, GT sum: 884730.00\n",
      "Dice Score: 0.8864\n",
      "\n",
      " Processing patient: 11448\n"
     ]
    },
    {
     "name": "stderr",
     "output_type": "stream",
     "text": [
      "100%|██████████| 80/80 [00:27<00:00,  2.96it/s]"
     ]
    },
    {
     "name": "stdout",
     "output_type": "stream",
     "text": [
      "Pred sum: 693283.00, GT sum: 884730.00\n",
      "Dice Score: 0.8787\n"
     ]
    },
    {
     "name": "stderr",
     "output_type": "stream",
     "text": [
      "\n"
     ]
    }
   ],
   "source": [
    "print(\"\\n Evaluating pre-trained model on D2...\")\n",
    "\n",
    "df = pd.read_csv(cohort_path)\n",
    "dice_metric = DiceMetric(include_background=False, reduction=\"mean\")\n",
    "dice_scores = []\n",
    "\n",
    "# Optional: Store predictions/GTs for later visualization or analysis\n",
    "all_preds = {}\n",
    "all_gts = {}\n",
    "\n",
    "for idx, row in tqdm(df.iterrows(), total=len(df)):\n",
    "    patient_id = row[\"patientID\"]\n",
    "    print(f\"\\n Processing patient: {patient_id}\")\n",
    "\n",
    "    try:\n",
    "        t2_path = os.path.join(file_data_root, row[\"T2W_NIFTI\"])\n",
    "        gland_path = os.path.join(file_data_root, row[\"Gland_NIFTI\"])\n",
    "\n",
    "        t2_tensor = preprocess_image(t2_path).to(device)\n",
    "        gland_tensor = preprocess_image(gland_path).to(device)\n",
    "\n",
    "        # Binarize GT\n",
    "        gland_tensor[gland_tensor > 0] = 1.0\n",
    "\n",
    "        with torch.no_grad():\n",
    "            pred = sliding_window_inference(\n",
    "                inputs=t2_tensor,\n",
    "                roi_size=(96, 96, 96),\n",
    "                sw_batch_size=1,\n",
    "                predictor=network\n",
    "            )\n",
    "\n",
    "            # Channel 1 = Central Gland\n",
    "            pred_bin = (pred[:, 1:2] > 0.5).float()\n",
    "\n",
    "        # Sanity log\n",
    "        print(f\"Pred sum: {pred_bin.sum().item():.2f}, GT sum: {gland_tensor.sum().item():.2f}\")\n",
    "\n",
    "        dice_metric.reset()\n",
    "        dice_metric(y_pred=pred_bin, y=gland_tensor)\n",
    "        score = dice_metric.aggregate().item()\n",
    "        dice_scores.append((patient_id, score))\n",
    "        print(f\"Dice Score: {score:.4f}\")\n",
    "\n",
    "        # Store for analysis\n",
    "        all_preds[patient_id] = pred_bin.cpu()\n",
    "        all_gts[patient_id] = gland_tensor.cpu()\n",
    "\n",
    "    except Exception as e:\n",
    "        print(f\"Error processing patient {patient_id}: {e}\")\n",
    "\n",
    "# Save scores as DataFrame\n",
    "results_df = pd.DataFrame(dice_scores, columns=[\"patientID\", \"dice\"])\n"
   ]
  },
  {
   "cell_type": "markdown",
   "id": "8db76709",
   "metadata": {},
   "source": [
    "###  Evaluation Analysis\n",
    "\n",
    "- Across the last few patients (10383, 11256, 11448), the **Dice scores consistently fall in the high 0.87–0.89 range**, indicating strong overlap between predicted and ground truth gland segmentations.\n",
    "- The **predicted gland volumes (`pred sum`) are slightly lower than the ground truth (`GT sum`)**, but still reasonably close—within ~20–23% margin.\n",
    "- Despite this slight under-segmentation, the model achieves high Dice scores, suggesting that the **predictions are well-aligned spatially**, even if slightly smaller in extent.\n",
    "- These results confirm that the model generalizes **reasonably well** to the D2 dataset using the custom preprocessing strategy and provides **reliable central gland segmentations**.\n"
   ]
  },
  {
   "cell_type": "code",
   "execution_count": 33,
   "id": "3f18c357",
   "metadata": {},
   "outputs": [
    {
     "name": "stdout",
     "output_type": "stream",
     "text": [
      "\n",
      "📊 Average Dice Score on D2: 0.8648285791277885\n"
     ]
    }
   ],
   "source": [
    "# Save results\n",
    "results_df = pd.DataFrame(dice_scores, columns=[\"patientID\", \"dice\"])\n",
    "results_df.to_csv(\"d2_eval_dice_scores.csv\", index=False)\n",
    "print(\"\\n📊 Average Dice Score on D2:\", results_df[\"dice\"].mean())"
   ]
  },
  {
   "cell_type": "code",
   "execution_count": 34,
   "id": "8413861c",
   "metadata": {},
   "outputs": [
    {
     "name": "stdout",
     "output_type": "stream",
     "text": [
      "\n",
      "📊 DICE SCORE ANALYSIS\n",
      "count    80.000000\n",
      "mean      0.864829\n",
      "std       0.029833\n",
      "min       0.793564\n",
      "25%       0.848857\n",
      "50%       0.864659\n",
      "75%       0.885074\n",
      "max       0.923522\n",
      "Name: dice, dtype: float64\n"
     ]
    }
   ],
   "source": [
    "print(\"\\n📊 DICE SCORE ANALYSIS\")\n",
    "print(results_df[\"dice\"].describe())  # mean, std, min, 25%, 50%, 75%, max"
   ]
  },
  {
   "cell_type": "code",
   "execution_count": 35,
   "id": "f00ba4f9",
   "metadata": {},
   "outputs": [
    {
     "name": "stdout",
     "output_type": "stream",
     "text": [
      "Patients with Dice < 0.1: 0\n",
      "Patients with Dice < 0.2: 0\n",
      "Patients with Dice > 0.5: 80\n"
     ]
    }
   ],
   "source": [
    "print(\"Patients with Dice < 0.1:\", (results_df[\"dice\"] < 0.1).sum())\n",
    "print(\"Patients with Dice < 0.2:\", (results_df[\"dice\"] < 0.2).sum())\n",
    "print(\"Patients with Dice > 0.5:\", (results_df[\"dice\"] > 0.5).sum())"
   ]
  },
  {
   "cell_type": "code",
   "execution_count": 36,
   "id": "0dac15e7",
   "metadata": {},
   "outputs": [
    {
     "data": {
      "image/png": "[encoded data removed]",
      "text/plain": [
       "<Figure size 800x500 with 1 Axes>"
      ]
     },
     "metadata": {},
     "output_type": "display_data"
    }
   ],
   "source": [
    "plt.figure(figsize=(8, 5))\n",
    "sns.histplot(results_df[\"dice\"].dropna(), bins=20, kde=True)\n",
    "plt.title(\"Distribution of Dice Scores on D2\")\n",
    "plt.xlabel(\"Dice Score\")\n",
    "plt.ylabel(\"Number of Patients\")\n",
    "plt.grid(True)\n",
    "plt.show()\n"
   ]
  },
  {
   "cell_type": "code",
   "execution_count": 37,
   "id": "f96d57d8",
   "metadata": {},
   "outputs": [
    {
     "name": "stdout",
     "output_type": "stream",
     "text": [
      "\n",
      "🔍 Worst performing patients:\n",
      "    patientID      dice\n",
      "42      10262  0.793564\n",
      "74      11229  0.801628\n",
      "44      10340  0.803317\n",
      "17      10107  0.810818\n",
      "65      10048  0.814334\n"
     ]
    }
   ],
   "source": [
    "print(\"\\n🔍 Worst performing patients:\")\n",
    "print(results_df.sort_values(\"dice\").head(5))"
   ]
  },
  {
   "cell_type": "code",
   "execution_count": 38,
   "id": "4cffb441",
   "metadata": {},
   "outputs": [
    {
     "name": "stdout",
     "output_type": "stream",
     "text": [
      "\n",
      "✅ Best performing patients:\n",
      "    patientID      dice\n",
      "53      10168  0.923522\n",
      "31      11177  0.917578\n",
      "58      10668  0.917315\n",
      "37      10390  0.916007\n",
      "61      11188  0.908781\n"
     ]
    }
   ],
   "source": [
    "print(\"\\n✅ Best performing patients:\")\n",
    "print(results_df.sort_values(\"dice\", ascending=False).head(5))"
   ]
  },
  {
   "cell_type": "code",
   "execution_count": 39,
   "id": "ce6df141",
   "metadata": {},
   "outputs": [],
   "source": [
    "def visualize_prediction(patient_id):\n",
    "\n",
    "    t2_path = os.path.join(file_data_root, f\"{patient_id}/{patient_id}_t2w.nii.gz\")\n",
    "    gland_path = os.path.join(file_data_root, f\"{patient_id}/{patient_id}_gland.nii.gz\")\n",
    "\n",
    "    t2_tensor = preprocess_image(t2_path).to(device)\n",
    "    gland_tensor = preprocess_image(gland_path).to(device)\n",
    "\n",
    "    # Binarize GT\n",
    "    #gland_tensor[gland_tensor > 0] = 1.0\n",
    "\n",
    "    with torch.no_grad():\n",
    "        pred = sliding_window_inference(\n",
    "            inputs=t2_tensor,\n",
    "            roi_size=(96, 96, 96),\n",
    "            sw_batch_size=1,\n",
    "            predictor=network\n",
    "        )\n",
    "\n",
    "        # Channel 1 = Central Gland\n",
    "        pred_bin = (pred[:, 1:2] > 0.5).float()\n",
    "\n",
    "    # Convert to numpy and squeeze\n",
    "    t2_np = t2_tensor.cpu().squeeze().numpy()        # [D, H, W]\n",
    "    gland_np = gland_tensor.cpu().squeeze().numpy()  # [D, H, W]\n",
    "    pred_np = pred_bin.cpu().squeeze().numpy()       # [D, H, W]\n",
    "\n",
    "    # Binary GT for cleaner visual\n",
    "    #gland_np = np.clip(gland_np, 0, 1)\n",
    "\n",
    "    slice_idx = t2_np.shape[2] // 2  # Z-slice for axial view\n",
    "\n",
    "    plt.figure(figsize=(15, 5))\n",
    "    \n",
    "    plt.subplot(1, 3, 1)\n",
    "    plt.imshow(t2_np[:, :, slice_idx], cmap=\"gray\")\n",
    "    plt.title(\"T2 Image\")\n",
    "\n",
    "    plt.subplot(1, 3, 2)\n",
    "    plt.imshow(gland_np[:, :, slice_idx], cmap=\"Reds\", vmin=0, vmax=1)\n",
    "    plt.title(f\"Patient {patient_id}\\nGround Truth Gland\")\n",
    "\n",
    "    plt.subplot(1, 3, 3)\n",
    "    plt.imshow(pred_np[:, :, slice_idx], cmap=\"Blues\", vmin=0, vmax=1)\n",
    "    plt.title(\"Predicted Gland\")\n",
    "\n",
    "    plt.tight_layout()\n",
    "    plt.show()\n"
   ]
  },
  {
   "cell_type": "code",
   "execution_count": 40,
   "id": "39db993f",
   "metadata": {},
   "outputs": [
    {
     "data": {
      "image/png": "[encoded data removed]",
      "text/plain": [
       "<Figure size 1500x500 with 3 Axes>"
      ]
     },
     "metadata": {},
     "output_type": "display_data"
    },
    {
     "data": {
      "image/png": "[encoded data removed]",
      "text/plain": [
       "<Figure size 1500x500 with 3 Axes>"
      ]
     },
     "metadata": {},
     "output_type": "display_data"
    },
    {
     "data": {
      "image/png": "[encoded data removed]",
      "text/plain": [
       "<Figure size 1500x500 with 3 Axes>"
      ]
     },
     "metadata": {},
     "output_type": "display_data"
    }
   ],
   "source": [
    "for pid in results_df.sort_values(\"dice\").head(3)[\"patientID\"]:\n",
    "    visualize_prediction(pid)  # Worst 3"
   ]
  },
  {
   "cell_type": "markdown",
   "id": "5780a3e3",
   "metadata": {},
   "source": [
    "###  Analysis of Worst-Performing Predictions\n",
    "\n",
    "The visualizations above highlight the three patients with the lowest Dice scores during evaluation on the D2 dataset. Despite achieving scores around 0.87–0.88, several important patterns emerge:\n",
    "\n",
    "- **Over-segmentation**: The predicted gland masks (shown in blue) significantly overestimate the actual gland size and location. In some cases, large parts of the background are incorrectly labeled as gland tissue.\n",
    "  \n",
    "- **Mismatch in Shape and Location**: While the ground truth glands are small and compact (centered red masks), the predicted regions are more diffuse and irregular, lacking anatomical precision.\n",
    "\n",
    "- **Class Imbalance Effect**: The gland occupies a small fraction of the total volume, making it susceptible to overprediction. Dice score, which is overlap-based, may still return a moderately high value even when large false positives are present.\n",
    "\n",
    "- **Dice Score Limitations**: These examples underscore how Dice can sometimes be misleading—high overlap can mask the severity of overprediction errors if the union is also inflated.\n",
    "\n",
    "**Takeaway**: Visual inspection remains critical. These results indicate the model could benefit from fine-tuning, class-balanced loss functions, or postprocessing strategies (e.g., connected component filtering) to suppress noisy or excessive predictions.\n"
   ]
  },
  {
   "cell_type": "code",
   "execution_count": 41,
   "id": "eac7a13a",
   "metadata": {},
   "outputs": [
    {
     "data": {
      "image/png": "[encoded data removed]",
      "text/plain": [
       "<Figure size 1500x500 with 3 Axes>"
      ]
     },
     "metadata": {},
     "output_type": "display_data"
    },
    {
     "data": {
      "image/png": "[encoded data removed]",
      "text/plain": [
       "<Figure size 1500x500 with 3 Axes>"
      ]
     },
     "metadata": {},
     "output_type": "display_data"
    },
    {
     "data": {
      "image/png": "[encoded data removed]",
      "text/plain": [
       "<Figure size 1500x500 with 3 Axes>"
      ]
     },
     "metadata": {},
     "output_type": "display_data"
    }
   ],
   "source": [
    "for pid in results_df.sort_values(\"dice\", ascending=False).head(3)[\"patientID\"]:\n",
    "    visualize_prediction(pid)  # Best 3"
   ]
  },
  {
   "cell_type": "markdown",
   "id": "bee3823e",
   "metadata": {},
   "source": [
    "### Best Performing Cases – Visualization Analysis\n",
    "\n",
    "The figures above show the top 3 patients based on Dice scores. While the reported Dice values are relatively high (approximately 0.87–0.88), the visualizations reveal important issues:\n",
    "\n",
    "- **Over-segmentation**: The predicted central gland masks are significantly overextended, covering areas beyond the actual gland regions.\n",
    "- **Poor Localization**: The model struggles to correctly localize the gland, often identifying large background areas as part of the gland.\n",
    "- **Limitations of Dice Score**: Although the Dice scores appear good, they can be misleading. The metric captures volume overlap but not the spatial accuracy of the prediction. As a result, predictions with incorrect shapes or positions may still score well.\n",
    "\n",
    "These findings emphasize the importance of visual validation alongside metric-based evaluation. Improvements such as fine-tuning the model and applying post-processing may be necessary to enhance the anatomical precision of the predictions.\n"
   ]
  }
 ],
 "metadata": {
  "kernelspec": {
   "display_name": "Python 3",
   "language": "python",
   "name": "python3"
  },
  "language_info": {
   "codemirror_mode": {
    "name": "ipython",
    "version": 3
   },
   "file_extension": ".py",
   "mimetype": "text/x-python",
   "name": "python",
   "nbconvert_exporter": "python",
   "pygments_lexer": "ipython3",
   "version": "3.10.17"
  }
 },
 "nbformat": 4,
 "nbformat_minor": 5
}
