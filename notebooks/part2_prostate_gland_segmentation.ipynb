{
 "cells": [
  {
   "cell_type": "code",
   "execution_count": 53,
   "id": "e26ad555",
   "metadata": {},
   "outputs": [],
   "source": [
    "import os\n",
    "import torch\n",
    "import numpy as np\n",
    "import pandas as pd\n",
    "import matplotlib.pyplot as plt\n",
    "from tqdm import tqdm\n",
    "\n",
    "from monai.transforms import (\n",
    "    LoadImaged, EnsureChannelFirstd, ResizeD, ScaleIntensityd, ToTensord,\n",
    "    LoadImage, EnsureChannelFirst, Resize, ScaleIntensity, ToTensor, Compose\n",
    ")\n",
    "from monai.data import Dataset, DataLoader\n",
    "from monai.losses import DiceCELoss\n",
    "from monai.metrics import DiceMetric\n",
    "from monai.inferers import sliding_window_inference\n",
    "from monai.bundle import ConfigParser\n"
   ]
  },
  {
   "cell_type": "code",
   "execution_count": 45,
   "id": "9e6e5558",
   "metadata": {},
   "outputs": [],
   "source": [
    "device = torch.device(\"cuda\" if torch.cuda.is_available() else \"cpu\")"
   ]
  },
  {
   "cell_type": "code",
   "execution_count": 46,
   "id": "2ef84cd7",
   "metadata": {},
   "outputs": [],
   "source": [
    "# Paths\n",
    "cohort_path = \"../data/PI-CAI/cohort.csv\"\n",
    "file_data_root = \"../data/PI-CAI/file_data\"\n",
    "model_weights = \"../models/prostate_mri_anatomy/models/model.pt\"\n",
    "config_path = \"../models/prostate_mri_anatomy/configs/inference.json\"\n",
    "bundle_dir = \"../models/prostate_mri_anatomy\"\n"
   ]
  },
  {
   "cell_type": "code",
   "execution_count": 47,
   "id": "4a3ffcf9",
   "metadata": {},
   "outputs": [],
   "source": [
    "# Load cohort CSV\n",
    "df = pd.read_csv(cohort_path)"
   ]
  },
  {
   "cell_type": "code",
   "execution_count": 48,
   "id": "0a6edf51",
   "metadata": {},
   "outputs": [],
   "source": [
    "# Build list of data dictionaries\n",
    "data_dicts = [\n",
    "    {\n",
    "        \"image\": os.path.join(file_data_root, row[\"T2W_NIFTI\"]),\n",
    "        \"label\": os.path.join(file_data_root, row[\"Gland_NIFTI\"])\n",
    "    }\n",
    "    for _, row in df.iterrows()\n",
    "]"
   ]
  },
  {
   "cell_type": "code",
   "execution_count": 49,
   "id": "dcedc777",
   "metadata": {},
   "outputs": [],
   "source": [
    "# Preprocessing pipeline (same as used during evaluation)\n",
    "train_transforms = Compose([\n",
    "    LoadImaged(keys=[\"image\", \"label\"]),\n",
    "    EnsureChannelFirstd(keys=[\"image\", \"label\"]),\n",
    "    ResizeD(keys=[\"image\", \"label\"], spatial_size=(96, 96, 96)),\n",
    "    ScaleIntensityd(keys=\"image\"),\n",
    "    ToTensord(keys=[\"image\", \"label\"])\n",
    "])"
   ]
  },
  {
   "cell_type": "code",
   "execution_count": 50,
   "id": "e4069499",
   "metadata": {},
   "outputs": [],
   "source": [
    "# Create Dataset and DataLoader\n",
    "train_ds = Dataset(data=data_dicts, transform=train_transforms)\n",
    "train_loader = DataLoader(train_ds, batch_size=1, shuffle=True, num_workers=0)"
   ]
  },
  {
   "cell_type": "code",
   "execution_count": 51,
   "id": "a0bb6504",
   "metadata": {},
   "outputs": [
    {
     "data": {
      "text/plain": [
       "UNet(\n",
       "  (model): Sequential(\n",
       "    (0): ResidualUnit(\n",
       "      (conv): Sequential(\n",
       "        (unit0): Convolution(\n",
       "          (conv): Conv3d(1, 16, kernel_size=(3, 3, 3), stride=(2, 2, 2), padding=(1, 1, 1))\n",
       "          (adn): ADN(\n",
       "            (N): BatchNorm3d(16, eps=1e-05, momentum=0.1, affine=True, track_running_stats=True)\n",
       "            (D): Dropout(p=0.15, inplace=False)\n",
       "            (A): PReLU(num_parameters=1)\n",
       "          )\n",
       "        )\n",
       "        (unit1): Convolution(\n",
       "          (conv): Conv3d(16, 16, kernel_size=(3, 3, 3), stride=(1, 1, 1), padding=(1, 1, 1))\n",
       "          (adn): ADN(\n",
       "            (N): BatchNorm3d(16, eps=1e-05, momentum=0.1, affine=True, track_running_stats=True)\n",
       "            (D): Dropout(p=0.15, inplace=False)\n",
       "            (A): PReLU(num_parameters=1)\n",
       "          )\n",
       "        )\n",
       "        (unit2): Convolution(\n",
       "          (conv): Conv3d(16, 16, kernel_size=(3, 3, 3), stride=(1, 1, 1), padding=(1, 1, 1))\n",
       "          (adn): ADN(\n",
       "            (N): BatchNorm3d(16, eps=1e-05, momentum=0.1, affine=True, track_running_stats=True)\n",
       "            (D): Dropout(p=0.15, inplace=False)\n",
       "            (A): PReLU(num_parameters=1)\n",
       "          )\n",
       "        )\n",
       "        (unit3): Convolution(\n",
       "          (conv): Conv3d(16, 16, kernel_size=(3, 3, 3), stride=(1, 1, 1), padding=(1, 1, 1))\n",
       "          (adn): ADN(\n",
       "            (N): BatchNorm3d(16, eps=1e-05, momentum=0.1, affine=True, track_running_stats=True)\n",
       "            (D): Dropout(p=0.15, inplace=False)\n",
       "            (A): PReLU(num_parameters=1)\n",
       "          )\n",
       "        )\n",
       "      )\n",
       "      (residual): Conv3d(1, 16, kernel_size=(3, 3, 3), stride=(2, 2, 2), padding=(1, 1, 1))\n",
       "    )\n",
       "    (1): SkipConnection(\n",
       "      (submodule): Sequential(\n",
       "        (0): ResidualUnit(\n",
       "          (conv): Sequential(\n",
       "            (unit0): Convolution(\n",
       "              (conv): Conv3d(16, 32, kernel_size=(3, 3, 3), stride=(2, 2, 2), padding=(1, 1, 1))\n",
       "              (adn): ADN(\n",
       "                (N): BatchNorm3d(32, eps=1e-05, momentum=0.1, affine=True, track_running_stats=True)\n",
       "                (D): Dropout(p=0.15, inplace=False)\n",
       "                (A): PReLU(num_parameters=1)\n",
       "              )\n",
       "            )\n",
       "            (unit1): Convolution(\n",
       "              (conv): Conv3d(32, 32, kernel_size=(3, 3, 3), stride=(1, 1, 1), padding=(1, 1, 1))\n",
       "              (adn): ADN(\n",
       "                (N): BatchNorm3d(32, eps=1e-05, momentum=0.1, affine=True, track_running_stats=True)\n",
       "                (D): Dropout(p=0.15, inplace=False)\n",
       "                (A): PReLU(num_parameters=1)\n",
       "              )\n",
       "            )\n",
       "            (unit2): Convolution(\n",
       "              (conv): Conv3d(32, 32, kernel_size=(3, 3, 3), stride=(1, 1, 1), padding=(1, 1, 1))\n",
       "              (adn): ADN(\n",
       "                (N): BatchNorm3d(32, eps=1e-05, momentum=0.1, affine=True, track_running_stats=True)\n",
       "                (D): Dropout(p=0.15, inplace=False)\n",
       "                (A): PReLU(num_parameters=1)\n",
       "              )\n",
       "            )\n",
       "            (unit3): Convolution(\n",
       "              (conv): Conv3d(32, 32, kernel_size=(3, 3, 3), stride=(1, 1, 1), padding=(1, 1, 1))\n",
       "              (adn): ADN(\n",
       "                (N): BatchNorm3d(32, eps=1e-05, momentum=0.1, affine=True, track_running_stats=True)\n",
       "                (D): Dropout(p=0.15, inplace=False)\n",
       "                (A): PReLU(num_parameters=1)\n",
       "              )\n",
       "            )\n",
       "          )\n",
       "          (residual): Conv3d(16, 32, kernel_size=(3, 3, 3), stride=(2, 2, 2), padding=(1, 1, 1))\n",
       "        )\n",
       "        (1): SkipConnection(\n",
       "          (submodule): Sequential(\n",
       "            (0): ResidualUnit(\n",
       "              (conv): Sequential(\n",
       "                (unit0): Convolution(\n",
       "                  (conv): Conv3d(32, 64, kernel_size=(3, 3, 3), stride=(2, 2, 2), padding=(1, 1, 1))\n",
       "                  (adn): ADN(\n",
       "                    (N): BatchNorm3d(64, eps=1e-05, momentum=0.1, affine=True, track_running_stats=True)\n",
       "                    (D): Dropout(p=0.15, inplace=False)\n",
       "                    (A): PReLU(num_parameters=1)\n",
       "                  )\n",
       "                )\n",
       "                (unit1): Convolution(\n",
       "                  (conv): Conv3d(64, 64, kernel_size=(3, 3, 3), stride=(1, 1, 1), padding=(1, 1, 1))\n",
       "                  (adn): ADN(\n",
       "                    (N): BatchNorm3d(64, eps=1e-05, momentum=0.1, affine=True, track_running_stats=True)\n",
       "                    (D): Dropout(p=0.15, inplace=False)\n",
       "                    (A): PReLU(num_parameters=1)\n",
       "                  )\n",
       "                )\n",
       "                (unit2): Convolution(\n",
       "                  (conv): Conv3d(64, 64, kernel_size=(3, 3, 3), stride=(1, 1, 1), padding=(1, 1, 1))\n",
       "                  (adn): ADN(\n",
       "                    (N): BatchNorm3d(64, eps=1e-05, momentum=0.1, affine=True, track_running_stats=True)\n",
       "                    (D): Dropout(p=0.15, inplace=False)\n",
       "                    (A): PReLU(num_parameters=1)\n",
       "                  )\n",
       "                )\n",
       "                (unit3): Convolution(\n",
       "                  (conv): Conv3d(64, 64, kernel_size=(3, 3, 3), stride=(1, 1, 1), padding=(1, 1, 1))\n",
       "                  (adn): ADN(\n",
       "                    (N): BatchNorm3d(64, eps=1e-05, momentum=0.1, affine=True, track_running_stats=True)\n",
       "                    (D): Dropout(p=0.15, inplace=False)\n",
       "                    (A): PReLU(num_parameters=1)\n",
       "                  )\n",
       "                )\n",
       "              )\n",
       "              (residual): Conv3d(32, 64, kernel_size=(3, 3, 3), stride=(2, 2, 2), padding=(1, 1, 1))\n",
       "            )\n",
       "            (1): SkipConnection(\n",
       "              (submodule): Sequential(\n",
       "                (0): ResidualUnit(\n",
       "                  (conv): Sequential(\n",
       "                    (unit0): Convolution(\n",
       "                      (conv): Conv3d(64, 128, kernel_size=(3, 3, 3), stride=(2, 2, 2), padding=(1, 1, 1))\n",
       "                      (adn): ADN(\n",
       "                        (N): BatchNorm3d(128, eps=1e-05, momentum=0.1, affine=True, track_running_stats=True)\n",
       "                        (D): Dropout(p=0.15, inplace=False)\n",
       "                        (A): PReLU(num_parameters=1)\n",
       "                      )\n",
       "                    )\n",
       "                    (unit1): Convolution(\n",
       "                      (conv): Conv3d(128, 128, kernel_size=(3, 3, 3), stride=(1, 1, 1), padding=(1, 1, 1))\n",
       "                      (adn): ADN(\n",
       "                        (N): BatchNorm3d(128, eps=1e-05, momentum=0.1, affine=True, track_running_stats=True)\n",
       "                        (D): Dropout(p=0.15, inplace=False)\n",
       "                        (A): PReLU(num_parameters=1)\n",
       "                      )\n",
       "                    )\n",
       "                    (unit2): Convolution(\n",
       "                      (conv): Conv3d(128, 128, kernel_size=(3, 3, 3), stride=(1, 1, 1), padding=(1, 1, 1))\n",
       "                      (adn): ADN(\n",
       "                        (N): BatchNorm3d(128, eps=1e-05, momentum=0.1, affine=True, track_running_stats=True)\n",
       "                        (D): Dropout(p=0.15, inplace=False)\n",
       "                        (A): PReLU(num_parameters=1)\n",
       "                      )\n",
       "                    )\n",
       "                    (unit3): Convolution(\n",
       "                      (conv): Conv3d(128, 128, kernel_size=(3, 3, 3), stride=(1, 1, 1), padding=(1, 1, 1))\n",
       "                      (adn): ADN(\n",
       "                        (N): BatchNorm3d(128, eps=1e-05, momentum=0.1, affine=True, track_running_stats=True)\n",
       "                        (D): Dropout(p=0.15, inplace=False)\n",
       "                        (A): PReLU(num_parameters=1)\n",
       "                      )\n",
       "                    )\n",
       "                  )\n",
       "                  (residual): Conv3d(64, 128, kernel_size=(3, 3, 3), stride=(2, 2, 2), padding=(1, 1, 1))\n",
       "                )\n",
       "                (1): SkipConnection(\n",
       "                  (submodule): Sequential(\n",
       "                    (0): ResidualUnit(\n",
       "                      (conv): Sequential(\n",
       "                        (unit0): Convolution(\n",
       "                          (conv): Conv3d(128, 256, kernel_size=(3, 3, 3), stride=(2, 2, 2), padding=(1, 1, 1))\n",
       "                          (adn): ADN(\n",
       "                            (N): BatchNorm3d(256, eps=1e-05, momentum=0.1, affine=True, track_running_stats=True)\n",
       "                            (D): Dropout(p=0.15, inplace=False)\n",
       "                            (A): PReLU(num_parameters=1)\n",
       "                          )\n",
       "                        )\n",
       "                        (unit1): Convolution(\n",
       "                          (conv): Conv3d(256, 256, kernel_size=(3, 3, 3), stride=(1, 1, 1), padding=(1, 1, 1))\n",
       "                          (adn): ADN(\n",
       "                            (N): BatchNorm3d(256, eps=1e-05, momentum=0.1, affine=True, track_running_stats=True)\n",
       "                            (D): Dropout(p=0.15, inplace=False)\n",
       "                            (A): PReLU(num_parameters=1)\n",
       "                          )\n",
       "                        )\n",
       "                        (unit2): Convolution(\n",
       "                          (conv): Conv3d(256, 256, kernel_size=(3, 3, 3), stride=(1, 1, 1), padding=(1, 1, 1))\n",
       "                          (adn): ADN(\n",
       "                            (N): BatchNorm3d(256, eps=1e-05, momentum=0.1, affine=True, track_running_stats=True)\n",
       "                            (D): Dropout(p=0.15, inplace=False)\n",
       "                            (A): PReLU(num_parameters=1)\n",
       "                          )\n",
       "                        )\n",
       "                        (unit3): Convolution(\n",
       "                          (conv): Conv3d(256, 256, kernel_size=(3, 3, 3), stride=(1, 1, 1), padding=(1, 1, 1))\n",
       "                          (adn): ADN(\n",
       "                            (N): BatchNorm3d(256, eps=1e-05, momentum=0.1, affine=True, track_running_stats=True)\n",
       "                            (D): Dropout(p=0.15, inplace=False)\n",
       "                            (A): PReLU(num_parameters=1)\n",
       "                          )\n",
       "                        )\n",
       "                      )\n",
       "                      (residual): Conv3d(128, 256, kernel_size=(3, 3, 3), stride=(2, 2, 2), padding=(1, 1, 1))\n",
       "                    )\n",
       "                    (1): SkipConnection(\n",
       "                      (submodule): ResidualUnit(\n",
       "                        (conv): Sequential(\n",
       "                          (unit0): Convolution(\n",
       "                            (conv): Conv3d(256, 512, kernel_size=(3, 3, 3), stride=(1, 1, 1), padding=(1, 1, 1))\n",
       "                            (adn): ADN(\n",
       "                              (N): BatchNorm3d(512, eps=1e-05, momentum=0.1, affine=True, track_running_stats=True)\n",
       "                              (D): Dropout(p=0.15, inplace=False)\n",
       "                              (A): PReLU(num_parameters=1)\n",
       "                            )\n",
       "                          )\n",
       "                          (unit1): Convolution(\n",
       "                            (conv): Conv3d(512, 512, kernel_size=(3, 3, 3), stride=(1, 1, 1), padding=(1, 1, 1))\n",
       "                            (adn): ADN(\n",
       "                              (N): BatchNorm3d(512, eps=1e-05, momentum=0.1, affine=True, track_running_stats=True)\n",
       "                              (D): Dropout(p=0.15, inplace=False)\n",
       "                              (A): PReLU(num_parameters=1)\n",
       "                            )\n",
       "                          )\n",
       "                          (unit2): Convolution(\n",
       "                            (conv): Conv3d(512, 512, kernel_size=(3, 3, 3), stride=(1, 1, 1), padding=(1, 1, 1))\n",
       "                            (adn): ADN(\n",
       "                              (N): BatchNorm3d(512, eps=1e-05, momentum=0.1, affine=True, track_running_stats=True)\n",
       "                              (D): Dropout(p=0.15, inplace=False)\n",
       "                              (A): PReLU(num_parameters=1)\n",
       "                            )\n",
       "                          )\n",
       "                          (unit3): Convolution(\n",
       "                            (conv): Conv3d(512, 512, kernel_size=(3, 3, 3), stride=(1, 1, 1), padding=(1, 1, 1))\n",
       "                            (adn): ADN(\n",
       "                              (N): BatchNorm3d(512, eps=1e-05, momentum=0.1, affine=True, track_running_stats=True)\n",
       "                              (D): Dropout(p=0.15, inplace=False)\n",
       "                              (A): PReLU(num_parameters=1)\n",
       "                            )\n",
       "                          )\n",
       "                        )\n",
       "                        (residual): Conv3d(256, 512, kernel_size=(1, 1, 1), stride=(1, 1, 1))\n",
       "                      )\n",
       "                    )\n",
       "                    (2): Sequential(\n",
       "                      (0): Convolution(\n",
       "                        (conv): ConvTranspose3d(768, 128, kernel_size=(3, 3, 3), stride=(2, 2, 2), padding=(1, 1, 1), output_padding=(1, 1, 1))\n",
       "                        (adn): ADN(\n",
       "                          (N): BatchNorm3d(128, eps=1e-05, momentum=0.1, affine=True, track_running_stats=True)\n",
       "                          (D): Dropout(p=0.15, inplace=False)\n",
       "                          (A): PReLU(num_parameters=1)\n",
       "                        )\n",
       "                      )\n",
       "                      (1): ResidualUnit(\n",
       "                        (conv): Sequential(\n",
       "                          (unit0): Convolution(\n",
       "                            (conv): Conv3d(128, 128, kernel_size=(3, 3, 3), stride=(1, 1, 1), padding=(1, 1, 1))\n",
       "                            (adn): ADN(\n",
       "                              (N): BatchNorm3d(128, eps=1e-05, momentum=0.1, affine=True, track_running_stats=True)\n",
       "                              (D): Dropout(p=0.15, inplace=False)\n",
       "                              (A): PReLU(num_parameters=1)\n",
       "                            )\n",
       "                          )\n",
       "                        )\n",
       "                        (residual): Identity()\n",
       "                      )\n",
       "                    )\n",
       "                  )\n",
       "                )\n",
       "                (2): Sequential(\n",
       "                  (0): Convolution(\n",
       "                    (conv): ConvTranspose3d(256, 64, kernel_size=(3, 3, 3), stride=(2, 2, 2), padding=(1, 1, 1), output_padding=(1, 1, 1))\n",
       "                    (adn): ADN(\n",
       "                      (N): BatchNorm3d(64, eps=1e-05, momentum=0.1, affine=True, track_running_stats=True)\n",
       "                      (D): Dropout(p=0.15, inplace=False)\n",
       "                      (A): PReLU(num_parameters=1)\n",
       "                    )\n",
       "                  )\n",
       "                  (1): ResidualUnit(\n",
       "                    (conv): Sequential(\n",
       "                      (unit0): Convolution(\n",
       "                        (conv): Conv3d(64, 64, kernel_size=(3, 3, 3), stride=(1, 1, 1), padding=(1, 1, 1))\n",
       "                        (adn): ADN(\n",
       "                          (N): BatchNorm3d(64, eps=1e-05, momentum=0.1, affine=True, track_running_stats=True)\n",
       "                          (D): Dropout(p=0.15, inplace=False)\n",
       "                          (A): PReLU(num_parameters=1)\n",
       "                        )\n",
       "                      )\n",
       "                    )\n",
       "                    (residual): Identity()\n",
       "                  )\n",
       "                )\n",
       "              )\n",
       "            )\n",
       "            (2): Sequential(\n",
       "              (0): Convolution(\n",
       "                (conv): ConvTranspose3d(128, 32, kernel_size=(3, 3, 3), stride=(2, 2, 2), padding=(1, 1, 1), output_padding=(1, 1, 1))\n",
       "                (adn): ADN(\n",
       "                  (N): BatchNorm3d(32, eps=1e-05, momentum=0.1, affine=True, track_running_stats=True)\n",
       "                  (D): Dropout(p=0.15, inplace=False)\n",
       "                  (A): PReLU(num_parameters=1)\n",
       "                )\n",
       "              )\n",
       "              (1): ResidualUnit(\n",
       "                (conv): Sequential(\n",
       "                  (unit0): Convolution(\n",
       "                    (conv): Conv3d(32, 32, kernel_size=(3, 3, 3), stride=(1, 1, 1), padding=(1, 1, 1))\n",
       "                    (adn): ADN(\n",
       "                      (N): BatchNorm3d(32, eps=1e-05, momentum=0.1, affine=True, track_running_stats=True)\n",
       "                      (D): Dropout(p=0.15, inplace=False)\n",
       "                      (A): PReLU(num_parameters=1)\n",
       "                    )\n",
       "                  )\n",
       "                )\n",
       "                (residual): Identity()\n",
       "              )\n",
       "            )\n",
       "          )\n",
       "        )\n",
       "        (2): Sequential(\n",
       "          (0): Convolution(\n",
       "            (conv): ConvTranspose3d(64, 16, kernel_size=(3, 3, 3), stride=(2, 2, 2), padding=(1, 1, 1), output_padding=(1, 1, 1))\n",
       "            (adn): ADN(\n",
       "              (N): BatchNorm3d(16, eps=1e-05, momentum=0.1, affine=True, track_running_stats=True)\n",
       "              (D): Dropout(p=0.15, inplace=False)\n",
       "              (A): PReLU(num_parameters=1)\n",
       "            )\n",
       "          )\n",
       "          (1): ResidualUnit(\n",
       "            (conv): Sequential(\n",
       "              (unit0): Convolution(\n",
       "                (conv): Conv3d(16, 16, kernel_size=(3, 3, 3), stride=(1, 1, 1), padding=(1, 1, 1))\n",
       "                (adn): ADN(\n",
       "                  (N): BatchNorm3d(16, eps=1e-05, momentum=0.1, affine=True, track_running_stats=True)\n",
       "                  (D): Dropout(p=0.15, inplace=False)\n",
       "                  (A): PReLU(num_parameters=1)\n",
       "                )\n",
       "              )\n",
       "            )\n",
       "            (residual): Identity()\n",
       "          )\n",
       "        )\n",
       "      )\n",
       "    )\n",
       "    (2): Sequential(\n",
       "      (0): Convolution(\n",
       "        (conv): ConvTranspose3d(32, 3, kernel_size=(3, 3, 3), stride=(2, 2, 2), padding=(1, 1, 1), output_padding=(1, 1, 1))\n",
       "        (adn): ADN(\n",
       "          (N): BatchNorm3d(3, eps=1e-05, momentum=0.1, affine=True, track_running_stats=True)\n",
       "          (D): Dropout(p=0.15, inplace=False)\n",
       "          (A): PReLU(num_parameters=1)\n",
       "        )\n",
       "      )\n",
       "      (1): ResidualUnit(\n",
       "        (conv): Sequential(\n",
       "          (unit0): Convolution(\n",
       "            (conv): Conv3d(3, 3, kernel_size=(3, 3, 3), stride=(1, 1, 1), padding=(1, 1, 1))\n",
       "          )\n",
       "        )\n",
       "        (residual): Identity()\n",
       "      )\n",
       "    )\n",
       "  )\n",
       ")"
      ]
     },
     "execution_count": 51,
     "metadata": {},
     "output_type": "execute_result"
    }
   ],
   "source": [
    "# Load model from MONAI bundle config\n",
    "parser = ConfigParser()\n",
    "parser.read_config(config_path)\n",
    "parser[\"bundle_root\"] = bundle_dir\n",
    "\n",
    "# Load model architecture\n",
    "network = parser.get_parsed_content(\"network_def\").to(device)\n",
    "\n",
    "# Load pretrained weights\n",
    "weights = torch.load(os.path.join(bundle_dir, \"models/model.pt\"), map_location=device)\n",
    "network.load_state_dict(weights)\n",
    "network.train()  # set to training mode\n"
   ]
  },
  {
   "cell_type": "code",
   "execution_count": 52,
   "id": "8e56c034",
   "metadata": {},
   "outputs": [],
   "source": [
    "# Dice + CrossEntropy loss for multi-class segmentation\n",
    "loss_fn = DiceCELoss(to_onehot_y=False, softmax=True)\n",
    "\n",
    "# Optimizer\n",
    "optimizer = torch.optim.Adam(network.parameters(), lr=1e-4)\n"
   ]
  },
  {
   "cell_type": "markdown",
   "id": "d122e635",
   "metadata": {},
   "source": [
    "### Model Fine-Tuning Loop\n",
    "\n",
    "This cell performs fine-tuning of the pre-trained segmentation model on the D2 dataset for a fixed number of epochs. The steps involved are:\n",
    "\n",
    "- The model is set to training mode at the beginning of each epoch.\n",
    "- For each batch of training data, T2-weighted images and corresponding gland labels are loaded and transferred to the computation device (CPU or GPU).\n",
    "- The model performs a forward pass to predict the segmentation output.\n",
    "- The Dice + Cross Entropy loss is computed using only the central gland channel from the predictions.\n",
    "- The loss is backpropagated, and the optimizer updates the model parameters.\n",
    "- The average loss for the epoch is logged to monitor training progress.\n"
   ]
  },
  {
   "cell_type": "code",
   "execution_count": 25,
   "id": "acdcedb3",
   "metadata": {},
   "outputs": [
    {
     "name": "stderr",
     "output_type": "stream",
     "text": [
      "Epoch 1:   0%|          | 0/80 [00:00<?, ?it/s]/Users/venkateshtalasila/My Files/GitHub Repositories/prostate-gland-segmentation-on-MRI/prostate-seg-env/lib/python3.10/site-packages/monai/losses/dice.py:147: UserWarning: single channel prediction, `softmax=True` ignored.\n",
      "  warnings.warn(\"single channel prediction, `softmax=True` ignored.\")\n",
      "Epoch 1: 100%|██████████| 80/80 [02:20<00:00,  1.75s/it]\n"
     ]
    },
    {
     "name": "stdout",
     "output_type": "stream",
     "text": [
      "Epoch 1/5, Average Loss: 1.2870\n"
     ]
    },
    {
     "name": "stderr",
     "output_type": "stream",
     "text": [
      "Epoch 2: 100%|██████████| 80/80 [02:17<00:00,  1.72s/it]\n"
     ]
    },
    {
     "name": "stdout",
     "output_type": "stream",
     "text": [
      "Epoch 2/5, Average Loss: 1.1440\n"
     ]
    },
    {
     "name": "stderr",
     "output_type": "stream",
     "text": [
      "Epoch 3: 100%|██████████| 80/80 [02:23<00:00,  1.79s/it]\n"
     ]
    },
    {
     "name": "stdout",
     "output_type": "stream",
     "text": [
      "Epoch 3/5, Average Loss: -1.6007\n"
     ]
    },
    {
     "name": "stderr",
     "output_type": "stream",
     "text": [
      "Epoch 4: 100%|██████████| 80/80 [02:19<00:00,  1.75s/it]\n"
     ]
    },
    {
     "name": "stdout",
     "output_type": "stream",
     "text": [
      "Epoch 4/5, Average Loss: 2.4603\n"
     ]
    },
    {
     "name": "stderr",
     "output_type": "stream",
     "text": [
      "Epoch 5: 100%|██████████| 80/80 [02:23<00:00,  1.79s/it]"
     ]
    },
    {
     "name": "stdout",
     "output_type": "stream",
     "text": [
      "Epoch 5/5, Average Loss: 1.6516\n"
     ]
    },
    {
     "name": "stderr",
     "output_type": "stream",
     "text": [
      "\n"
     ]
    }
   ],
   "source": [
    "from tqdm import tqdm\n",
    "\n",
    "num_epochs = 5\n",
    "\n",
    "for epoch in range(num_epochs):\n",
    "    network.train()\n",
    "    epoch_loss = 0\n",
    "\n",
    "    for batch in tqdm(train_loader, desc=f\"Epoch {epoch + 1}\"):\n",
    "        t2, gland = batch\n",
    "        t2, gland = batch[\"image\"].to(device), batch[\"label\"].to(device)\n",
    "\n",
    "\n",
    "        # Forward pass\n",
    "        outputs = network(t2)\n",
    "        loss = loss_fn(outputs[:, 1:2], gland)\n",
    "\n",
    "        # Backpropagation\n",
    "        optimizer.zero_grad()\n",
    "        loss.backward()\n",
    "        optimizer.step()\n",
    "\n",
    "        epoch_loss += loss.item()\n",
    "\n",
    "    avg_loss = epoch_loss / len(train_loader)\n",
    "    print(f\"Epoch {epoch + 1}/{num_epochs}, Average Loss: {avg_loss:.4f}\")\n"
   ]
  },
  {
   "cell_type": "code",
   "execution_count": 30,
   "id": "5b9cc852",
   "metadata": {},
   "outputs": [],
   "source": [
    "# Manual preprocessing pipeline for a single image\n",
    "preprocess = Compose([\n",
    "    LoadImage(image_only=True),\n",
    "    EnsureChannelFirst(),\n",
    "    Resize((96, 96, 96)),\n",
    "    ScaleIntensity(),\n",
    "    ToTensor()\n",
    "])\n",
    "\n",
    "# Preprocessing helper\n",
    "def preprocess_image(path):\n",
    "    return preprocess(path).unsqueeze(0)  # [1, C, D, H, W]"
   ]
  },
  {
   "cell_type": "code",
   "execution_count": null,
   "id": "4395e244",
   "metadata": {},
   "outputs": [
    {
     "name": "stdout",
     "output_type": "stream",
     "text": [
      "\n",
      "🔍 Evaluating fine-tuned model on D2...\n"
     ]
    },
    {
     "name": "stderr",
     "output_type": "stream",
     "text": [
      "  0%|          | 0/80 [00:00<?, ?it/s]"
     ]
    },
    {
     "name": "stdout",
     "output_type": "stream",
     "text": [
      "\n",
      "🧪 Processing patient: 11284\n"
     ]
    },
    {
     "name": "stderr",
     "output_type": "stream",
     "text": [
      "  1%|▏         | 1/80 [00:00<01:11,  1.11it/s]"
     ]
    },
    {
     "name": "stdout",
     "output_type": "stream",
     "text": [
      "Pred sum: 209927.00, GT sum: 884730.00\n",
      "✅ Dice Score: 0.3835\n",
      "\n",
      "🧪 Processing patient: 10372\n"
     ]
    },
    {
     "name": "stderr",
     "output_type": "stream",
     "text": [
      "  2%|▎         | 2/80 [00:01<01:01,  1.27it/s]"
     ]
    },
    {
     "name": "stdout",
     "output_type": "stream",
     "text": [
      "Pred sum: 155893.00, GT sum: 884733.00\n",
      "✅ Dice Score: 0.2996\n",
      "\n",
      "🧪 Processing patient: 10768\n"
     ]
    },
    {
     "name": "stderr",
     "output_type": "stream",
     "text": [
      "  4%|▍         | 3/80 [00:02<00:55,  1.38it/s]"
     ]
    },
    {
     "name": "stdout",
     "output_type": "stream",
     "text": [
      "Pred sum: 262182.00, GT sum: 884733.00\n",
      "✅ Dice Score: 0.4572\n",
      "\n",
      "🧪 Processing patient: 10074\n"
     ]
    },
    {
     "name": "stderr",
     "output_type": "stream",
     "text": [
      "  5%|▌         | 4/80 [00:02<00:53,  1.43it/s]"
     ]
    },
    {
     "name": "stdout",
     "output_type": "stream",
     "text": [
      "Pred sum: 257500.00, GT sum: 884733.00\n",
      "✅ Dice Score: 0.4509\n",
      "\n",
      "🧪 Processing patient: 10418\n"
     ]
    },
    {
     "name": "stderr",
     "output_type": "stream",
     "text": [
      "  6%|▋         | 5/80 [00:03<00:51,  1.45it/s]"
     ]
    },
    {
     "name": "stdout",
     "output_type": "stream",
     "text": [
      "Pred sum: 197674.00, GT sum: 884730.00\n",
      "✅ Dice Score: 0.3652\n",
      "\n",
      "🧪 Processing patient: 11165\n"
     ]
    },
    {
     "name": "stderr",
     "output_type": "stream",
     "text": [
      "  8%|▊         | 6/80 [00:04<00:50,  1.47it/s]"
     ]
    },
    {
     "name": "stdout",
     "output_type": "stream",
     "text": [
      "Pred sum: 240535.00, GT sum: 884730.00\n",
      "✅ Dice Score: 0.4275\n",
      "\n",
      "🧪 Processing patient: 10442\n"
     ]
    },
    {
     "name": "stderr",
     "output_type": "stream",
     "text": [
      "  9%|▉         | 7/80 [00:04<00:49,  1.49it/s]"
     ]
    },
    {
     "name": "stdout",
     "output_type": "stream",
     "text": [
      "Pred sum: 258027.00, GT sum: 884733.00\n",
      "✅ Dice Score: 0.4516\n",
      "\n",
      "🧪 Processing patient: 10486\n"
     ]
    },
    {
     "name": "stderr",
     "output_type": "stream",
     "text": [
      " 10%|█         | 8/80 [00:05<00:48,  1.49it/s]"
     ]
    },
    {
     "name": "stdout",
     "output_type": "stream",
     "text": [
      "Pred sum: 171157.00, GT sum: 884733.00\n",
      "✅ Dice Score: 0.3242\n",
      "\n",
      "🧪 Processing patient: 10043\n"
     ]
    },
    {
     "name": "stderr",
     "output_type": "stream",
     "text": [
      " 11%|█▏        | 9/80 [00:06<00:47,  1.50it/s]"
     ]
    },
    {
     "name": "stdout",
     "output_type": "stream",
     "text": [
      "Pred sum: 224104.00, GT sum: 884730.00\n",
      "✅ Dice Score: 0.4042\n",
      "\n",
      "🧪 Processing patient: 10164\n"
     ]
    },
    {
     "name": "stderr",
     "output_type": "stream",
     "text": [
      " 12%|█▎        | 10/80 [00:06<00:47,  1.47it/s]"
     ]
    },
    {
     "name": "stdout",
     "output_type": "stream",
     "text": [
      "Pred sum: 252906.00, GT sum: 884733.00\n",
      "✅ Dice Score: 0.4446\n",
      "\n",
      "🧪 Processing patient: 10241\n"
     ]
    },
    {
     "name": "stderr",
     "output_type": "stream",
     "text": [
      " 14%|█▍        | 11/80 [00:07<00:46,  1.48it/s]"
     ]
    },
    {
     "name": "stdout",
     "output_type": "stream",
     "text": [
      "Pred sum: 238883.00, GT sum: 884730.00\n",
      "✅ Dice Score: 0.4252\n",
      "\n",
      "🧪 Processing patient: 10522\n"
     ]
    },
    {
     "name": "stderr",
     "output_type": "stream",
     "text": [
      " 15%|█▌        | 12/80 [00:08<00:45,  1.50it/s]"
     ]
    },
    {
     "name": "stdout",
     "output_type": "stream",
     "text": [
      "Pred sum: 282887.00, GT sum: 884733.00\n",
      "✅ Dice Score: 0.4845\n",
      "\n",
      "🧪 Processing patient: 10728\n"
     ]
    },
    {
     "name": "stderr",
     "output_type": "stream",
     "text": [
      " 16%|█▋        | 13/80 [00:08<00:44,  1.52it/s]"
     ]
    },
    {
     "name": "stdout",
     "output_type": "stream",
     "text": [
      "Pred sum: 201946.00, GT sum: 884733.00\n",
      "✅ Dice Score: 0.3717\n",
      "\n",
      "🧪 Processing patient: 10825\n"
     ]
    },
    {
     "name": "stderr",
     "output_type": "stream",
     "text": [
      " 18%|█▊        | 14/80 [00:09<00:43,  1.51it/s]"
     ]
    },
    {
     "name": "stdout",
     "output_type": "stream",
     "text": [
      "Pred sum: 253793.00, GT sum: 884733.00\n",
      "✅ Dice Score: 0.4458\n",
      "\n",
      "🧪 Processing patient: 11137\n"
     ]
    },
    {
     "name": "stderr",
     "output_type": "stream",
     "text": [
      " 19%|█▉        | 15/80 [00:10<00:43,  1.49it/s]"
     ]
    },
    {
     "name": "stdout",
     "output_type": "stream",
     "text": [
      "Pred sum: 258214.00, GT sum: 884733.00\n",
      "✅ Dice Score: 0.4518\n",
      "\n",
      "🧪 Processing patient: 11236\n"
     ]
    },
    {
     "name": "stderr",
     "output_type": "stream",
     "text": [
      " 20%|██        | 16/80 [00:10<00:42,  1.52it/s]"
     ]
    },
    {
     "name": "stdout",
     "output_type": "stream",
     "text": [
      "Pred sum: 284904.00, GT sum: 884733.00\n",
      "✅ Dice Score: 0.4872\n",
      "\n",
      "🧪 Processing patient: 11361\n"
     ]
    },
    {
     "name": "stderr",
     "output_type": "stream",
     "text": [
      " 21%|██▏       | 17/80 [00:11<00:41,  1.53it/s]"
     ]
    },
    {
     "name": "stdout",
     "output_type": "stream",
     "text": [
      "Pred sum: 200963.00, GT sum: 884733.00\n",
      "✅ Dice Score: 0.3702\n",
      "\n",
      "🧪 Processing patient: 10107\n"
     ]
    },
    {
     "name": "stderr",
     "output_type": "stream",
     "text": [
      " 22%|██▎       | 18/80 [00:12<00:41,  1.49it/s]"
     ]
    },
    {
     "name": "stdout",
     "output_type": "stream",
     "text": [
      "Pred sum: 246760.00, GT sum: 884730.00\n",
      "✅ Dice Score: 0.4362\n",
      "\n",
      "🧪 Processing patient: 10539\n"
     ]
    },
    {
     "name": "stderr",
     "output_type": "stream",
     "text": [
      " 24%|██▍       | 19/80 [00:12<00:41,  1.47it/s]"
     ]
    },
    {
     "name": "stdout",
     "output_type": "stream",
     "text": [
      "Pred sum: 217870.00, GT sum: 884733.00\n",
      "✅ Dice Score: 0.3952\n",
      "\n",
      "🧪 Processing patient: 10743\n"
     ]
    },
    {
     "name": "stderr",
     "output_type": "stream",
     "text": [
      " 25%|██▌       | 20/80 [00:13<00:41,  1.46it/s]"
     ]
    },
    {
     "name": "stdout",
     "output_type": "stream",
     "text": [
      "Pred sum: 294852.00, GT sum: 884733.00\n",
      "✅ Dice Score: 0.4999\n",
      "\n",
      "🧪 Processing patient: 10910\n"
     ]
    },
    {
     "name": "stderr",
     "output_type": "stream",
     "text": [
      " 26%|██▋       | 21/80 [00:14<00:39,  1.48it/s]"
     ]
    },
    {
     "name": "stdout",
     "output_type": "stream",
     "text": [
      "Pred sum: 301873.00, GT sum: 884733.00\n",
      "✅ Dice Score: 0.5088\n",
      "\n",
      "🧪 Processing patient: 11051\n"
     ]
    },
    {
     "name": "stderr",
     "output_type": "stream",
     "text": [
      " 28%|██▊       | 22/80 [00:14<00:38,  1.49it/s]"
     ]
    },
    {
     "name": "stdout",
     "output_type": "stream",
     "text": [
      "Pred sum: 238759.00, GT sum: 884730.00\n",
      "✅ Dice Score: 0.4250\n",
      "\n",
      "🧪 Processing patient: 11086\n"
     ]
    },
    {
     "name": "stderr",
     "output_type": "stream",
     "text": [
      " 29%|██▉       | 23/80 [00:15<00:38,  1.49it/s]"
     ]
    },
    {
     "name": "stdout",
     "output_type": "stream",
     "text": [
      "Pred sum: 237031.00, GT sum: 884733.00\n",
      "✅ Dice Score: 0.4226\n",
      "\n",
      "🧪 Processing patient: 11155\n"
     ]
    },
    {
     "name": "stderr",
     "output_type": "stream",
     "text": [
      " 30%|███       | 24/80 [00:16<00:37,  1.48it/s]"
     ]
    },
    {
     "name": "stdout",
     "output_type": "stream",
     "text": [
      "Pred sum: 249656.00, GT sum: 884730.00\n",
      "✅ Dice Score: 0.4402\n",
      "\n",
      "🧪 Processing patient: 11444\n"
     ]
    },
    {
     "name": "stderr",
     "output_type": "stream",
     "text": [
      " 31%|███▏      | 25/80 [00:17<00:37,  1.47it/s]"
     ]
    },
    {
     "name": "stdout",
     "output_type": "stream",
     "text": [
      "Pred sum: 225983.00, GT sum: 884730.00\n",
      "✅ Dice Score: 0.4069\n",
      "\n",
      "🧪 Processing patient: 10005\n"
     ]
    },
    {
     "name": "stderr",
     "output_type": "stream",
     "text": [
      " 32%|███▎      | 26/80 [00:17<00:36,  1.47it/s]"
     ]
    },
    {
     "name": "stdout",
     "output_type": "stream",
     "text": [
      "Pred sum: 180306.00, GT sum: 884730.00\n",
      "✅ Dice Score: 0.3386\n",
      "\n",
      "🧪 Processing patient: 10329\n"
     ]
    },
    {
     "name": "stderr",
     "output_type": "stream",
     "text": [
      " 34%|███▍      | 27/80 [00:18<00:35,  1.49it/s]"
     ]
    },
    {
     "name": "stdout",
     "output_type": "stream",
     "text": [
      "Pred sum: 240869.00, GT sum: 884733.00\n",
      "✅ Dice Score: 0.4280\n",
      "\n",
      "🧪 Processing patient: 10434\n"
     ]
    },
    {
     "name": "stderr",
     "output_type": "stream",
     "text": [
      " 35%|███▌      | 28/80 [00:18<00:34,  1.50it/s]"
     ]
    },
    {
     "name": "stdout",
     "output_type": "stream",
     "text": [
      "Pred sum: 223724.00, GT sum: 884730.00\n",
      "✅ Dice Score: 0.4037\n",
      "\n",
      "🧪 Processing patient: 10484\n"
     ]
    },
    {
     "name": "stderr",
     "output_type": "stream",
     "text": [
      " 36%|███▋      | 29/80 [00:19<00:34,  1.47it/s]"
     ]
    },
    {
     "name": "stdout",
     "output_type": "stream",
     "text": [
      "Pred sum: 263882.00, GT sum: 884733.00\n",
      "✅ Dice Score: 0.4595\n",
      "\n",
      "🧪 Processing patient: 10807\n"
     ]
    },
    {
     "name": "stderr",
     "output_type": "stream",
     "text": [
      " 38%|███▊      | 30/80 [00:20<00:33,  1.48it/s]"
     ]
    },
    {
     "name": "stdout",
     "output_type": "stream",
     "text": [
      "Pred sum: 216875.00, GT sum: 884733.00\n",
      "✅ Dice Score: 0.3937\n",
      "\n",
      "🧪 Processing patient: 10888\n"
     ]
    },
    {
     "name": "stderr",
     "output_type": "stream",
     "text": [
      " 39%|███▉      | 31/80 [00:21<00:33,  1.44it/s]"
     ]
    },
    {
     "name": "stdout",
     "output_type": "stream",
     "text": [
      "Pred sum: 269231.00, GT sum: 884733.00\n",
      "✅ Dice Score: 0.4666\n",
      "\n",
      "🧪 Processing patient: 11177\n"
     ]
    },
    {
     "name": "stderr",
     "output_type": "stream",
     "text": [
      " 40%|████      | 32/80 [00:21<00:34,  1.39it/s]"
     ]
    },
    {
     "name": "stdout",
     "output_type": "stream",
     "text": [
      "Pred sum: 275297.00, GT sum: 884733.00\n",
      "✅ Dice Score: 0.4746\n",
      "\n",
      "🧪 Processing patient: 11253\n"
     ]
    },
    {
     "name": "stderr",
     "output_type": "stream",
     "text": [
      " 41%|████▏     | 33/80 [00:22<00:36,  1.30it/s]"
     ]
    },
    {
     "name": "stdout",
     "output_type": "stream",
     "text": [
      "Pred sum: 251542.00, GT sum: 884730.00\n",
      "✅ Dice Score: 0.4427\n",
      "\n",
      "🧪 Processing patient: 11300\n"
     ]
    },
    {
     "name": "stderr",
     "output_type": "stream",
     "text": [
      " 42%|████▎     | 34/80 [00:23<00:34,  1.33it/s]"
     ]
    },
    {
     "name": "stdout",
     "output_type": "stream",
     "text": [
      "Pred sum: 219352.00, GT sum: 884730.00\n",
      "✅ Dice Score: 0.3973\n",
      "\n",
      "🧪 Processing patient: 10085\n"
     ]
    },
    {
     "name": "stderr",
     "output_type": "stream",
     "text": [
      " 44%|████▍     | 35/80 [00:24<00:32,  1.36it/s]"
     ]
    },
    {
     "name": "stdout",
     "output_type": "stream",
     "text": [
      "Pred sum: 213502.00, GT sum: 884733.00\n",
      "✅ Dice Score: 0.3888\n",
      "\n",
      "🧪 Processing patient: 10274\n"
     ]
    },
    {
     "name": "stderr",
     "output_type": "stream",
     "text": [
      " 45%|████▌     | 36/80 [00:24<00:31,  1.38it/s]"
     ]
    },
    {
     "name": "stdout",
     "output_type": "stream",
     "text": [
      "Pred sum: 221245.00, GT sum: 884733.00\n",
      "✅ Dice Score: 0.4001\n",
      "\n",
      "🧪 Processing patient: 10380\n"
     ]
    },
    {
     "name": "stderr",
     "output_type": "stream",
     "text": [
      " 46%|████▋     | 37/80 [00:25<00:30,  1.40it/s]"
     ]
    },
    {
     "name": "stdout",
     "output_type": "stream",
     "text": [
      "Pred sum: 237691.00, GT sum: 884730.00\n",
      "✅ Dice Score: 0.4235\n",
      "\n",
      "🧪 Processing patient: 10390\n"
     ]
    },
    {
     "name": "stderr",
     "output_type": "stream",
     "text": [
      " 48%|████▊     | 38/80 [00:26<00:31,  1.33it/s]"
     ]
    },
    {
     "name": "stdout",
     "output_type": "stream",
     "text": [
      "Pred sum: 312739.00, GT sum: 884733.00\n",
      "✅ Dice Score: 0.5223\n",
      "\n",
      "🧪 Processing patient: 10665\n"
     ]
    },
    {
     "name": "stderr",
     "output_type": "stream",
     "text": [
      " 49%|████▉     | 39/80 [00:27<00:30,  1.35it/s]"
     ]
    },
    {
     "name": "stdout",
     "output_type": "stream",
     "text": [
      "Pred sum: 207261.00, GT sum: 884733.00\n",
      "✅ Dice Score: 0.3796\n",
      "\n",
      "🧪 Processing patient: 10872\n"
     ]
    },
    {
     "name": "stderr",
     "output_type": "stream",
     "text": [
      " 50%|█████     | 40/80 [00:27<00:29,  1.37it/s]"
     ]
    },
    {
     "name": "stdout",
     "output_type": "stream",
     "text": [
      "Pred sum: 263047.00, GT sum: 884733.00\n",
      "✅ Dice Score: 0.4584\n",
      "\n",
      "🧪 Processing patient: 11168\n"
     ]
    },
    {
     "name": "stderr",
     "output_type": "stream",
     "text": [
      " 51%|█████▏    | 41/80 [00:28<00:28,  1.38it/s]"
     ]
    },
    {
     "name": "stdout",
     "output_type": "stream",
     "text": [
      "Pred sum: 228521.00, GT sum: 884730.00\n",
      "✅ Dice Score: 0.4105\n",
      "\n",
      "🧪 Processing patient: 10059\n"
     ]
    },
    {
     "name": "stderr",
     "output_type": "stream",
     "text": [
      " 52%|█████▎    | 42/80 [00:29<00:27,  1.38it/s]"
     ]
    },
    {
     "name": "stdout",
     "output_type": "stream",
     "text": [
      "Pred sum: 213424.00, GT sum: 884730.00\n",
      "✅ Dice Score: 0.3887\n",
      "\n",
      "🧪 Processing patient: 10262\n"
     ]
    },
    {
     "name": "stderr",
     "output_type": "stream",
     "text": [
      " 54%|█████▍    | 43/80 [00:30<00:28,  1.31it/s]"
     ]
    },
    {
     "name": "stdout",
     "output_type": "stream",
     "text": [
      "Pred sum: 194562.00, GT sum: 884730.00\n",
      "✅ Dice Score: 0.3605\n",
      "\n",
      "🧪 Processing patient: 10322\n"
     ]
    },
    {
     "name": "stderr",
     "output_type": "stream",
     "text": [
      " 55%|█████▌    | 44/80 [00:30<00:27,  1.31it/s]"
     ]
    },
    {
     "name": "stdout",
     "output_type": "stream",
     "text": [
      "Pred sum: 208450.00, GT sum: 884730.00\n",
      "✅ Dice Score: 0.3814\n",
      "\n",
      "🧪 Processing patient: 10340\n"
     ]
    },
    {
     "name": "stderr",
     "output_type": "stream",
     "text": [
      " 56%|█████▋    | 45/80 [00:31<00:26,  1.34it/s]"
     ]
    },
    {
     "name": "stdout",
     "output_type": "stream",
     "text": [
      "Pred sum: 245604.00, GT sum: 884733.00\n",
      "✅ Dice Score: 0.4346\n",
      "\n",
      "🧪 Processing patient: 10607\n"
     ]
    },
    {
     "name": "stderr",
     "output_type": "stream",
     "text": [
      " 57%|█████▊    | 46/80 [00:32<00:24,  1.36it/s]"
     ]
    },
    {
     "name": "stdout",
     "output_type": "stream",
     "text": [
      "Pred sum: 210742.00, GT sum: 884730.00\n",
      "✅ Dice Score: 0.3848\n",
      "\n",
      "🧪 Processing patient: 10798\n"
     ]
    },
    {
     "name": "stderr",
     "output_type": "stream",
     "text": [
      " 59%|█████▉    | 47/80 [00:33<00:24,  1.33it/s]"
     ]
    },
    {
     "name": "stdout",
     "output_type": "stream",
     "text": [
      "Pred sum: 257733.00, GT sum: 884733.00\n",
      "✅ Dice Score: 0.4512\n",
      "\n",
      "🧪 Processing patient: 10839\n"
     ]
    },
    {
     "name": "stderr",
     "output_type": "stream",
     "text": [
      " 60%|██████    | 48/80 [00:33<00:23,  1.35it/s]"
     ]
    },
    {
     "name": "stdout",
     "output_type": "stream",
     "text": [
      "Pred sum: 194548.00, GT sum: 884730.00\n",
      "✅ Dice Score: 0.3605\n",
      "\n",
      "🧪 Processing patient: 10915\n"
     ]
    },
    {
     "name": "stderr",
     "output_type": "stream",
     "text": [
      " 61%|██████▏   | 49/80 [00:34<00:23,  1.33it/s]"
     ]
    },
    {
     "name": "stdout",
     "output_type": "stream",
     "text": [
      "Pred sum: 312771.00, GT sum: 884733.00\n",
      "✅ Dice Score: 0.5224\n",
      "\n",
      "🧪 Processing patient: 11231\n"
     ]
    },
    {
     "name": "stderr",
     "output_type": "stream",
     "text": [
      " 62%|██████▎   | 50/80 [00:35<00:21,  1.37it/s]"
     ]
    },
    {
     "name": "stdout",
     "output_type": "stream",
     "text": [
      "Pred sum: 232409.00, GT sum: 884730.00\n",
      "✅ Dice Score: 0.4161\n",
      "\n",
      "🧪 Processing patient: 11278\n"
     ]
    },
    {
     "name": "stderr",
     "output_type": "stream",
     "text": [
      " 64%|██████▍   | 51/80 [00:35<00:21,  1.37it/s]"
     ]
    },
    {
     "name": "stdout",
     "output_type": "stream",
     "text": [
      "Pred sum: 223252.00, GT sum: 884730.00\n",
      "✅ Dice Score: 0.4030\n",
      "\n",
      "🧪 Processing patient: 10040\n"
     ]
    },
    {
     "name": "stderr",
     "output_type": "stream",
     "text": [
      " 65%|██████▌   | 52/80 [00:36<00:20,  1.36it/s]"
     ]
    },
    {
     "name": "stdout",
     "output_type": "stream",
     "text": [
      "Pred sum: 222383.00, GT sum: 884730.00\n",
      "✅ Dice Score: 0.4017\n",
      "\n",
      "🧪 Processing patient: 10117\n"
     ]
    },
    {
     "name": "stderr",
     "output_type": "stream",
     "text": [
      " 66%|██████▋   | 53/80 [00:37<00:20,  1.32it/s]"
     ]
    },
    {
     "name": "stdout",
     "output_type": "stream",
     "text": [
      "Pred sum: 254177.00, GT sum: 884733.00\n",
      "✅ Dice Score: 0.4464\n",
      "\n",
      "🧪 Processing patient: 10168\n"
     ]
    },
    {
     "name": "stderr",
     "output_type": "stream",
     "text": [
      " 68%|██████▊   | 54/80 [00:38<00:19,  1.36it/s]"
     ]
    },
    {
     "name": "stdout",
     "output_type": "stream",
     "text": [
      "Pred sum: 314203.00, GT sum: 884730.00\n",
      "✅ Dice Score: 0.5241\n",
      "\n",
      "🧪 Processing patient: 10211\n"
     ]
    },
    {
     "name": "stderr",
     "output_type": "stream",
     "text": [
      " 69%|██████▉   | 55/80 [00:38<00:17,  1.41it/s]"
     ]
    },
    {
     "name": "stdout",
     "output_type": "stream",
     "text": [
      "Pred sum: 213689.00, GT sum: 884730.00\n",
      "✅ Dice Score: 0.3891\n",
      "\n",
      "🧪 Processing patient: 10216\n"
     ]
    },
    {
     "name": "stderr",
     "output_type": "stream",
     "text": [
      " 70%|███████   | 56/80 [00:39<00:16,  1.42it/s]"
     ]
    },
    {
     "name": "stdout",
     "output_type": "stream",
     "text": [
      "Pred sum: 211390.00, GT sum: 884733.00\n",
      "✅ Dice Score: 0.3857\n",
      "\n",
      "🧪 Processing patient: 10339\n"
     ]
    },
    {
     "name": "stderr",
     "output_type": "stream",
     "text": [
      " 71%|███████▏  | 57/80 [00:40<00:15,  1.45it/s]"
     ]
    },
    {
     "name": "stdout",
     "output_type": "stream",
     "text": [
      "Pred sum: 220455.00, GT sum: 884733.00\n",
      "✅ Dice Score: 0.3989\n",
      "\n",
      "🧪 Processing patient: 10568\n"
     ]
    },
    {
     "name": "stderr",
     "output_type": "stream",
     "text": [
      " 72%|███████▎  | 58/80 [00:40<00:15,  1.43it/s]"
     ]
    },
    {
     "name": "stdout",
     "output_type": "stream",
     "text": [
      "Pred sum: 192871.00, GT sum: 884730.00\n",
      "✅ Dice Score: 0.3580\n",
      "\n",
      "🧪 Processing patient: 10668\n"
     ]
    },
    {
     "name": "stderr",
     "output_type": "stream",
     "text": [
      " 74%|███████▍  | 59/80 [00:41<00:14,  1.46it/s]"
     ]
    },
    {
     "name": "stdout",
     "output_type": "stream",
     "text": [
      "Pred sum: 289816.00, GT sum: 884733.00\n",
      "✅ Dice Score: 0.4935\n",
      "\n",
      "🧪 Processing patient: 10699\n"
     ]
    },
    {
     "name": "stderr",
     "output_type": "stream",
     "text": [
      " 75%|███████▌  | 60/80 [00:42<00:13,  1.47it/s]"
     ]
    },
    {
     "name": "stdout",
     "output_type": "stream",
     "text": [
      "Pred sum: 236346.00, GT sum: 884730.00\n",
      "✅ Dice Score: 0.4216\n",
      "\n",
      "🧪 Processing patient: 11122\n"
     ]
    },
    {
     "name": "stderr",
     "output_type": "stream",
     "text": [
      " 76%|███████▋  | 61/80 [00:42<00:12,  1.48it/s]"
     ]
    },
    {
     "name": "stdout",
     "output_type": "stream",
     "text": [
      "Pred sum: 193409.00, GT sum: 884730.00\n",
      "✅ Dice Score: 0.3588\n",
      "\n",
      "🧪 Processing patient: 11188\n"
     ]
    },
    {
     "name": "stderr",
     "output_type": "stream",
     "text": [
      " 78%|███████▊  | 62/80 [00:43<00:11,  1.50it/s]"
     ]
    },
    {
     "name": "stdout",
     "output_type": "stream",
     "text": [
      "Pred sum: 284260.00, GT sum: 884733.00\n",
      "✅ Dice Score: 0.4863\n",
      "\n",
      "🧪 Processing patient: 11247\n"
     ]
    },
    {
     "name": "stderr",
     "output_type": "stream",
     "text": [
      " 79%|███████▉  | 63/80 [00:44<00:11,  1.50it/s]"
     ]
    },
    {
     "name": "stdout",
     "output_type": "stream",
     "text": [
      "Pred sum: 241401.00, GT sum: 884730.00\n",
      "✅ Dice Score: 0.4287\n",
      "\n",
      "🧪 Processing patient: 11260\n"
     ]
    },
    {
     "name": "stderr",
     "output_type": "stream",
     "text": [
      " 80%|████████  | 64/80 [00:44<00:10,  1.52it/s]"
     ]
    },
    {
     "name": "stdout",
     "output_type": "stream",
     "text": [
      "Pred sum: 274433.00, GT sum: 884733.00\n",
      "✅ Dice Score: 0.4735\n",
      "\n",
      "🧪 Processing patient: 11280\n"
     ]
    },
    {
     "name": "stderr",
     "output_type": "stream",
     "text": [
      " 81%|████████▏ | 65/80 [00:45<00:09,  1.53it/s]"
     ]
    },
    {
     "name": "stdout",
     "output_type": "stream",
     "text": [
      "Pred sum: 216474.00, GT sum: 884733.00\n",
      "✅ Dice Score: 0.3932\n",
      "\n",
      "🧪 Processing patient: 10048\n"
     ]
    },
    {
     "name": "stderr",
     "output_type": "stream",
     "text": [
      " 82%|████████▎ | 66/80 [00:46<00:09,  1.53it/s]"
     ]
    },
    {
     "name": "stdout",
     "output_type": "stream",
     "text": [
      "Pred sum: 277965.00, GT sum: 884730.00\n",
      "✅ Dice Score: 0.4781\n",
      "\n",
      "🧪 Processing patient: 10097\n"
     ]
    },
    {
     "name": "stderr",
     "output_type": "stream",
     "text": [
      " 84%|████████▍ | 67/80 [00:46<00:08,  1.49it/s]"
     ]
    },
    {
     "name": "stdout",
     "output_type": "stream",
     "text": [
      "Pred sum: 253327.00, GT sum: 884733.00\n",
      "✅ Dice Score: 0.4452\n",
      "\n",
      "🧪 Processing patient: 10233\n"
     ]
    },
    {
     "name": "stderr",
     "output_type": "stream",
     "text": [
      " 85%|████████▌ | 68/80 [00:47<00:07,  1.52it/s]"
     ]
    },
    {
     "name": "stdout",
     "output_type": "stream",
     "text": [
      "Pred sum: 196814.00, GT sum: 884733.00\n",
      "✅ Dice Score: 0.3639\n",
      "\n",
      "🧪 Processing patient: 10268\n"
     ]
    },
    {
     "name": "stderr",
     "output_type": "stream",
     "text": [
      " 86%|████████▋ | 69/80 [00:48<00:07,  1.52it/s]"
     ]
    },
    {
     "name": "stdout",
     "output_type": "stream",
     "text": [
      "Pred sum: 209643.00, GT sum: 884733.00\n",
      "✅ Dice Score: 0.3831\n",
      "\n",
      "🧪 Processing patient: 10294\n"
     ]
    },
    {
     "name": "stderr",
     "output_type": "stream",
     "text": [
      " 88%|████████▊ | 70/80 [00:48<00:06,  1.53it/s]"
     ]
    },
    {
     "name": "stdout",
     "output_type": "stream",
     "text": [
      "Pred sum: 175735.00, GT sum: 884733.00\n",
      "✅ Dice Score: 0.3314\n",
      "\n",
      "🧪 Processing patient: 10503\n"
     ]
    },
    {
     "name": "stderr",
     "output_type": "stream",
     "text": [
      " 89%|████████▉ | 71/80 [00:49<00:05,  1.52it/s]"
     ]
    },
    {
     "name": "stdout",
     "output_type": "stream",
     "text": [
      "Pred sum: 214860.00, GT sum: 884730.00\n",
      "✅ Dice Score: 0.3908\n",
      "\n",
      "🧪 Processing patient: 10589\n"
     ]
    },
    {
     "name": "stderr",
     "output_type": "stream",
     "text": [
      " 90%|█████████ | 72/80 [00:50<00:05,  1.53it/s]"
     ]
    },
    {
     "name": "stdout",
     "output_type": "stream",
     "text": [
      "Pred sum: 216654.00, GT sum: 884730.00\n",
      "✅ Dice Score: 0.3934\n",
      "\n",
      "🧪 Processing patient: 10804\n"
     ]
    },
    {
     "name": "stderr",
     "output_type": "stream",
     "text": [
      " 91%|█████████▏| 73/80 [00:50<00:04,  1.52it/s]"
     ]
    },
    {
     "name": "stdout",
     "output_type": "stream",
     "text": [
      "Pred sum: 211009.00, GT sum: 884730.00\n",
      "✅ Dice Score: 0.3851\n",
      "\n",
      "🧪 Processing patient: 10968\n"
     ]
    },
    {
     "name": "stderr",
     "output_type": "stream",
     "text": [
      " 92%|█████████▎| 74/80 [00:51<00:03,  1.52it/s]"
     ]
    },
    {
     "name": "stdout",
     "output_type": "stream",
     "text": [
      "Pred sum: 169759.00, GT sum: 884733.00\n",
      "✅ Dice Score: 0.3220\n",
      "\n",
      "🧪 Processing patient: 11229\n"
     ]
    },
    {
     "name": "stderr",
     "output_type": "stream",
     "text": [
      " 94%|█████████▍| 75/80 [00:52<00:03,  1.53it/s]"
     ]
    },
    {
     "name": "stdout",
     "output_type": "stream",
     "text": [
      "Pred sum: 203753.00, GT sum: 884730.00\n",
      "✅ Dice Score: 0.3744\n",
      "\n",
      "🧪 Processing patient: 11384\n"
     ]
    },
    {
     "name": "stderr",
     "output_type": "stream",
     "text": [
      " 95%|█████████▌| 76/80 [00:52<00:02,  1.49it/s]"
     ]
    },
    {
     "name": "stdout",
     "output_type": "stream",
     "text": [
      "Pred sum: 240185.00, GT sum: 884733.00\n",
      "✅ Dice Score: 0.4270\n",
      "\n",
      "🧪 Processing patient: 10157\n"
     ]
    },
    {
     "name": "stderr",
     "output_type": "stream",
     "text": [
      " 96%|█████████▋| 77/80 [00:53<00:01,  1.50it/s]"
     ]
    },
    {
     "name": "stdout",
     "output_type": "stream",
     "text": [
      "Pred sum: 171172.00, GT sum: 884730.00\n",
      "✅ Dice Score: 0.3242\n",
      "\n",
      "🧪 Processing patient: 10383\n"
     ]
    },
    {
     "name": "stderr",
     "output_type": "stream",
     "text": [
      " 98%|█████████▊| 78/80 [00:54<00:01,  1.51it/s]"
     ]
    },
    {
     "name": "stdout",
     "output_type": "stream",
     "text": [
      "Pred sum: 183316.00, GT sum: 884730.00\n",
      "✅ Dice Score: 0.3433\n",
      "\n",
      "🧪 Processing patient: 11256\n"
     ]
    },
    {
     "name": "stderr",
     "output_type": "stream",
     "text": [
      " 99%|█████████▉| 79/80 [00:54<00:00,  1.50it/s]"
     ]
    },
    {
     "name": "stdout",
     "output_type": "stream",
     "text": [
      "Pred sum: 193208.00, GT sum: 884730.00\n",
      "✅ Dice Score: 0.3585\n",
      "\n",
      "🧪 Processing patient: 11448\n"
     ]
    },
    {
     "name": "stderr",
     "output_type": "stream",
     "text": [
      "100%|██████████| 80/80 [00:55<00:00,  1.44it/s]"
     ]
    },
    {
     "name": "stdout",
     "output_type": "stream",
     "text": [
      "Pred sum: 204905.00, GT sum: 884730.00\n",
      "✅ Dice Score: 0.3761\n"
     ]
    },
    {
     "name": "stderr",
     "output_type": "stream",
     "text": [
      "\n"
     ]
    }
   ],
   "source": [
    "print(\"\\n🔍 Evaluating fine-tuned model on D2...\")\n",
    "df = pd.read_csv(cohort_path)\n",
    "dice_metric = DiceMetric(include_background=False, reduction=\"mean\")\n",
    "dice_scores = []\n",
    "\n",
    "network.eval()  # Make sure we're in eval mode\n",
    "\n",
    "for idx, row in tqdm(df.iterrows(), total=len(df)):\n",
    "    patient_id = row[\"patientID\"]\n",
    "    print(f\"\\n🧪 Processing patient: {patient_id}\")\n",
    "\n",
    "    try:\n",
    "        t2_path = os.path.join(file_data_root, row[\"T2W_NIFTI\"])\n",
    "        gland_path = os.path.join(file_data_root, row[\"Gland_NIFTI\"])\n",
    "\n",
    "        t2_tensor = preprocess_image(t2_path).to(device)\n",
    "        gland_tensor = preprocess_image(gland_path).to(device)\n",
    "\n",
    "        with torch.no_grad():\n",
    "            pred = sliding_window_inference(\n",
    "                inputs=t2_tensor,\n",
    "                roi_size=(96, 96, 96),\n",
    "                sw_batch_size=1,\n",
    "                predictor=network\n",
    "            )\n",
    "            pred_bin = (pred[:, 1:2] > 0.5).float()  # channel 1 = central gland\n",
    "            gland_tensor[gland_tensor > 0] = 1.0     # binarize GT\n",
    "\n",
    "        print(f\"Pred sum: {pred_bin.sum().item():.2f}, GT sum: {gland_tensor.sum().item():.2f}\")\n",
    "        dice_metric.reset()\n",
    "        dice_metric(y_pred=pred_bin, y=gland_tensor)\n",
    "        score = dice_metric.aggregate().item()\n",
    "\n",
    "        dice_scores.append((patient_id, score))\n",
    "        print(f\"✅ Dice Score: {score:.4f}\")\n",
    "\n",
    "    except Exception as e:\n",
    "        print(f\"❌ Error processing patient {patient_id}: {e}\")\n"
   ]
  },
  {
   "cell_type": "markdown",
   "id": "70d2924b",
   "metadata": {},
   "source": [
    "### Training Loss Analysis\n",
    "\n",
    "The average training loss across 5 epochs is as follows:\n",
    "\n",
    "- **Epoch 1:** 1.2870\n",
    "- **Epoch 2:** 1.1440\n",
    "- **Epoch 3:** -1.6007 (unexpected negative loss)\n",
    "- **Epoch 4:** 2.4603 (significant spike)\n",
    "- **Epoch 5:** 1.6516\n",
    "\n",
    "The loss values show instability, especially in epochs 3 and 4. A negative loss value and a sudden spike suggest potential issues such as:\n",
    "- Numerical instability during loss computation or backpropagation\n",
    "- Inappropriate scaling or normalization of inputs/labels\n",
    "- Problems with the dataset or labels (e.g., mismatched shapes or class imbalance)\n",
    "\n",
    "This behavior indicates that the fine-tuning process might not be converging as expected, and adjustments to preprocessing, learning rate, or loss formulation may be necessary.\n"
   ]
  },
  {
   "cell_type": "code",
   "execution_count": 32,
   "id": "1086c34e",
   "metadata": {},
   "outputs": [
    {
     "name": "stdout",
     "output_type": "stream",
     "text": [
      "\n",
      "📊 Average Dice Score on D2: 0.414088948443532\n"
     ]
    }
   ],
   "source": [
    "# Save results to dataframe\n",
    "results_df = pd.DataFrame(dice_scores, columns=[\"patientID\", \"dice\"])\n",
    "results_df.to_csv(\"results_finetuned.csv\", index=False)\n",
    "print(\"\\n📊 Average Dice Score on D2:\", results_df[\"dice\"].mean())"
   ]
  },
  {
   "cell_type": "code",
   "execution_count": 33,
   "id": "6b2f812f",
   "metadata": {},
   "outputs": [
    {
     "name": "stdout",
     "output_type": "stream",
     "text": [
      "\n",
      "📊 DICE SCORE ANALYSIS\n",
      "count    80.000000\n",
      "mean      0.414089\n",
      "std       0.050411\n",
      "min       0.299614\n",
      "25%       0.382687\n",
      "50%       0.405558\n",
      "75%       0.447481\n",
      "max       0.524128\n",
      "Name: dice, dtype: float64\n"
     ]
    }
   ],
   "source": [
    "print(\"\\n📊 DICE SCORE ANALYSIS\")\n",
    "print(results_df[\"dice\"].describe())  # mean, std, min, 25%, 50%, 75%, max"
   ]
  },
  {
   "cell_type": "code",
   "execution_count": 37,
   "id": "58b9bf09",
   "metadata": {},
   "outputs": [],
   "source": [
    "import matplotlib.pyplot as plt\n",
    "import seaborn as sns  # als"
   ]
  },
  {
   "cell_type": "code",
   "execution_count": 38,
   "id": "39829b03",
   "metadata": {},
   "outputs": [
    {
     "data": {
      "image/png": "[encoded data removed]",
      "text/plain": [
       "<Figure size 800x500 with 1 Axes>"
      ]
     },
     "metadata": {},
     "output_type": "display_data"
    }
   ],
   "source": [
    "plt.figure(figsize=(8, 5))\n",
    "sns.histplot(results_df[\"dice\"].dropna(), bins=20, kde=True)\n",
    "plt.title(\"Distribution of Dice Scores on D2\")\n",
    "plt.xlabel(\"Dice Score\")\n",
    "plt.ylabel(\"Number of Patients\")\n",
    "plt.grid(True)\n",
    "plt.show()"
   ]
  },
  {
   "cell_type": "code",
   "execution_count": 39,
   "id": "8e7c7487",
   "metadata": {},
   "outputs": [
    {
     "name": "stdout",
     "output_type": "stream",
     "text": [
      "\n",
      "🔍 Worst performing patients:\n",
      "    patientID      dice\n",
      "1       10372  0.299614\n",
      "73      10968  0.321973\n",
      "7       10486  0.324195\n",
      "76      10157  0.324219\n",
      "69      10294  0.331425\n"
     ]
    }
   ],
   "source": [
    "print(\"\\n🔍 Worst performing patients:\")\n",
    "print(results_df.sort_values(\"dice\").head(5))"
   ]
  },
  {
   "cell_type": "code",
   "execution_count": 40,
   "id": "b75aae55",
   "metadata": {},
   "outputs": [
    {
     "name": "stdout",
     "output_type": "stream",
     "text": [
      "\n",
      "✅ Best performing patients:\n",
      "    patientID      dice\n",
      "53      10168  0.524128\n",
      "48      10915  0.522368\n",
      "37      10390  0.522327\n",
      "20      10910  0.508801\n",
      "19      10743  0.499925\n"
     ]
    }
   ],
   "source": [
    "print(\"\\n✅ Best performing patients:\")\n",
    "print(results_df.sort_values(\"dice\", ascending=False).head(5))"
   ]
  },
  {
   "cell_type": "code",
   "execution_count": 41,
   "id": "5d594742",
   "metadata": {},
   "outputs": [],
   "source": [
    "def visualize_prediction(patient_id):\n",
    "    import matplotlib.pyplot as plt\n",
    "    import numpy as np\n",
    "    import os\n",
    "\n",
    "    t2_path = os.path.join(file_data_root, f\"{patient_id}/{patient_id}_t2w.nii.gz\")\n",
    "    gland_path = os.path.join(file_data_root, f\"{patient_id}/{patient_id}_gland.nii.gz\")\n",
    "\n",
    "    t2_tensor = preprocess_image(t2_path).to(device)\n",
    "    gland_tensor = preprocess_image(gland_path).to(device)\n",
    "\n",
    "    # Binarize GT\n",
    "    #gland_tensor[gland_tensor > 0] = 1.0\n",
    "\n",
    "    with torch.no_grad():\n",
    "        pred = sliding_window_inference(\n",
    "            inputs=t2_tensor,\n",
    "            roi_size=(96, 96, 96),\n",
    "            sw_batch_size=1,\n",
    "            predictor=network\n",
    "        )\n",
    "\n",
    "        # Channel 1 = Central Gland\n",
    "        pred_bin = (pred[:, 1:2] > 0.5).float()\n",
    "\n",
    "    # Convert to numpy and squeeze\n",
    "    t2_np = t2_tensor.cpu().squeeze().numpy()        # [D, H, W]\n",
    "    gland_np = gland_tensor.cpu().squeeze().numpy()  # [D, H, W]\n",
    "    pred_np = pred_bin.cpu().squeeze().numpy()       # [D, H, W]\n",
    "\n",
    "    # Binary GT for cleaner visual\n",
    "    #gland_np = np.clip(gland_np, 0, 1)\n",
    "\n",
    "    slice_idx = t2_np.shape[2] // 2  # Z-slice for axial view\n",
    "\n",
    "    plt.figure(figsize=(15, 5))\n",
    "    \n",
    "    plt.subplot(1, 3, 1)\n",
    "    plt.imshow(t2_np[:, :, slice_idx], cmap=\"gray\")\n",
    "    plt.title(\"T2 Image\")\n",
    "\n",
    "    plt.subplot(1, 3, 2)\n",
    "    plt.imshow(gland_np[:, :, slice_idx], cmap=\"Reds\", vmin=0, vmax=1)\n",
    "    plt.title(f\"Patient {patient_id}\\nGround Truth Gland\")\n",
    "\n",
    "    plt.subplot(1, 3, 3)\n",
    "    plt.imshow(pred_np[:, :, slice_idx], cmap=\"Blues\", vmin=0, vmax=1)\n",
    "    plt.title(\"Predicted Gland\")\n",
    "\n",
    "    plt.tight_layout()\n",
    "    plt.show()\n"
   ]
  },
  {
   "cell_type": "code",
   "execution_count": 42,
   "id": "f377ab44",
   "metadata": {},
   "outputs": [
    {
     "data": {
      "image/png": "[encoded data removed]",
      "text/plain": [
       "<Figure size 1500x500 with 3 Axes>"
      ]
     },
     "metadata": {},
     "output_type": "display_data"
    },
    {
     "data": {
      "image/png": "[encoded data removed]",
      "text/plain": [
       "<Figure size 1500x500 with 3 Axes>"
      ]
     },
     "metadata": {},
     "output_type": "display_data"
    },
    {
     "data": {
      "image/png": "[encoded data removed]",
      "text/plain": [
       "<Figure size 1500x500 with 3 Axes>"
      ]
     },
     "metadata": {},
     "output_type": "display_data"
    }
   ],
   "source": [
    "for pid in results_df.sort_values(\"dice\", ascending=False).head(3)[\"patientID\"]:\n",
    "    visualize_prediction(pid)  # Best 3"
   ]
  },
  {
   "cell_type": "markdown",
   "id": "b1de9349",
   "metadata": {},
   "source": [
    "### Analysis of Best 3 Performing Patients\n",
    "\n",
    "- **Visual Overlap with Ground Truth**: In the best-performing cases, the predicted gland masks show better spatial alignment with the ground truth regions compared to the worst-performing examples. The predictions generally cover the correct anatomical zone, although they still exhibit noticeable over-segmentation.\n",
    "\n",
    "- **Prediction Pattern**: The model tends to over-predict the gland area, especially in the anterior and lateral prostate regions. This could indicate a tendency to misclassify surrounding tissue or difficulty in separating central gland (CG) and peripheral zone (PZ) due to channel confusion.\n",
    "\n",
    "- **T2 Image Quality**: These examples have relatively clear and well-defined gland structures in the T2-weighted images. Better contrast and fewer imaging artifacts may be contributing to improved model performance on these patients.\n",
    "\n",
    "- **Remaining Challenges**: Despite being among the top predictions, these cases still show excessive predicted regions and lack precise boundaries. The model captures the location but not the shape or extent accurately, highlighting the need for better fine-tuning or post-processing on the D2 dataset.\n"
   ]
  },
  {
   "cell_type": "code",
   "execution_count": 43,
   "id": "81381bfd",
   "metadata": {},
   "outputs": [
    {
     "data": {
      "image/png": "[encoded data removed]",
      "text/plain": [
       "<Figure size 1500x500 with 3 Axes>"
      ]
     },
     "metadata": {},
     "output_type": "display_data"
    },
    {
     "data": {
      "image/png": "[encoded data removed]",
      "text/plain": [
       "<Figure size 1500x500 with 3 Axes>"
      ]
     },
     "metadata": {},
     "output_type": "display_data"
    },
    {
     "data": {
      "image/png": "[encoded data removed]",
      "text/plain": [
       "<Figure size 1500x500 with 3 Axes>"
      ]
     },
     "metadata": {},
     "output_type": "display_data"
    }
   ],
   "source": [
    "for pid in results_df.sort_values(\"dice\").head(3)[\"patientID\"]:\n",
    "    visualize_prediction(pid)  # Worst 3"
   ]
  },
  {
   "cell_type": "markdown",
   "id": "136db911",
   "metadata": {},
   "source": [
    "### Analysis of Worst Performing Predictions\n",
    "\n",
    "The segmentation results for patients **10372**, **10968**, and **10486** reveal substantial mismatches between the predicted gland regions and the ground truth masks:\n",
    "\n",
    "- **Patient 10372**:\n",
    "  - The predicted gland includes several disconnected, scattered patches.\n",
    "  - The actual gland region is entirely missed, indicating poor spatial localization.\n",
    "\n",
    "- **Patient 10968**:\n",
    "  - The prediction consists of numerous irregular regions far from the anatomical location of the prostate gland.\n",
    "  - Despite a large and clearly defined ground truth gland, the model fails to identify it.\n",
    "\n",
    "- **Patient 10486**:\n",
    "  - The predicted segmentation appears as dispersed vertical blobs, not aligning with the actual gland structure.\n",
    "  - The true gland region is completely overlooked.\n",
    "\n",
    "#### Key Observations:\n",
    "- All three cases show segmentation in irrelevant regions, suggesting confusion about gland positioning.\n",
    "- The model often misclassifies background or unrelated tissue as gland.\n",
    "- These errors highlight that **Dice scores alone may not fully reflect segmentation failures**, especially when small overlaps yield deceptively high values.\n",
    "\n",
    "#### Conclusion:\n",
    "Visual inspection is crucial to complement quantitative metrics. The current predictions lack anatomical accuracy in several low-performing cases, underscoring the need for further model tuning or data refinement.\n"
   ]
  }
 ],
 "metadata": {
  "kernelspec": {
   "display_name": "Python 3",
   "language": "python",
   "name": "python3"
  },
  "language_info": {
   "codemirror_mode": {
    "name": "ipython",
    "version": 3
   },
   "file_extension": ".py",
   "mimetype": "text/x-python",
   "name": "python",
   "nbconvert_exporter": "python",
   "pygments_lexer": "ipython3",
   "version": "3.10.17"
  }
 },
 "nbformat": 4,
 "nbformat_minor": 5
}
